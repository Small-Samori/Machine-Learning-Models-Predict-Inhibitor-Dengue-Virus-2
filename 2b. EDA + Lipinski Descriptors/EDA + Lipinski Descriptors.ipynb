{
  "nbformat": 4,
  "nbformat_minor": 0,
  "metadata": {
    "colab": {
      "name": " 2. Exploratory Data Analysis + Computing Lipinkis Descriptors",
      "provenance": [],
      "collapsed_sections": [],
      "toc_visible": true
    },
    "kernelspec": {
      "display_name": "Python 3",
      "name": "python3"
    }
  },
  "cells": [
    {
      "cell_type": "markdown",
      "metadata": {
        "id": "o-4IOizard4P"
      },
      "source": [
        "## **Install conda and rdkit**"
      ]
    },
    {
      "cell_type": "code",
      "metadata": {
        "colab": {
          "base_uri": "https://localhost:8080/"
        },
        "id": "H0mjQ2PcrSe5",
        "outputId": "2ffa36c0-0771-4533-c201-fb2f67be85c1"
      },
      "source": [
        "! wget https://repo.anaconda.com/miniconda/Miniconda3-py37_4.8.2-Linux-x86_64.sh\n",
        "! chmod +x Miniconda3-py37_4.8.2-Linux-x86_64.sh\n",
        "! bash ./Miniconda3-py37_4.8.2-Linux-x86_64.sh -b -f -p /usr/local\n",
        "! conda install -c rdkit rdkit -y\n",
        "import sys\n",
        "sys.path.append('/usr/local/lib/python3.7/site-packages/')"
      ],
      "execution_count": null,
      "outputs": [
        {
          "output_type": "stream",
          "text": [
            "--2021-05-26 14:34:16--  https://repo.anaconda.com/miniconda/Miniconda3-py37_4.8.2-Linux-x86_64.sh\n",
            "Resolving repo.anaconda.com (repo.anaconda.com)... 104.16.130.3, 104.16.131.3, 2606:4700::6810:8203, ...\n",
            "Connecting to repo.anaconda.com (repo.anaconda.com)|104.16.130.3|:443... connected.\n",
            "HTTP request sent, awaiting response... 200 OK\n",
            "Length: 85055499 (81M) [application/x-sh]\n",
            "Saving to: ‘Miniconda3-py37_4.8.2-Linux-x86_64.sh’\n",
            "\n",
            "Miniconda3-py37_4.8 100%[===================>]  81.12M   141MB/s    in 0.6s    \n",
            "\n",
            "2021-05-26 14:34:17 (141 MB/s) - ‘Miniconda3-py37_4.8.2-Linux-x86_64.sh’ saved [85055499/85055499]\n",
            "\n",
            "PREFIX=/usr/local\n",
            "Unpacking payload ...\n",
            "Collecting package metadata (current_repodata.json): - \b\b\\ \b\b| \b\b/ \b\b- \b\bdone\n",
            "Solving environment: | \b\b/ \b\bdone\n",
            "\n",
            "## Package Plan ##\n",
            "\n",
            "  environment location: /usr/local\n",
            "\n",
            "  added / updated specs:\n",
            "    - _libgcc_mutex==0.1=main\n",
            "    - asn1crypto==1.3.0=py37_0\n",
            "    - ca-certificates==2020.1.1=0\n",
            "    - certifi==2019.11.28=py37_0\n",
            "    - cffi==1.14.0=py37h2e261b9_0\n",
            "    - chardet==3.0.4=py37_1003\n",
            "    - conda-package-handling==1.6.0=py37h7b6447c_0\n",
            "    - conda==4.8.2=py37_0\n",
            "    - cryptography==2.8=py37h1ba5d50_0\n",
            "    - idna==2.8=py37_0\n",
            "    - ld_impl_linux-64==2.33.1=h53a641e_7\n",
            "    - libedit==3.1.20181209=hc058e9b_0\n",
            "    - libffi==3.2.1=hd88cf55_4\n",
            "    - libgcc-ng==9.1.0=hdf63c60_0\n",
            "    - libstdcxx-ng==9.1.0=hdf63c60_0\n",
            "    - ncurses==6.2=he6710b0_0\n",
            "    - openssl==1.1.1d=h7b6447c_4\n",
            "    - pip==20.0.2=py37_1\n",
            "    - pycosat==0.6.3=py37h7b6447c_0\n",
            "    - pycparser==2.19=py37_0\n",
            "    - pyopenssl==19.1.0=py37_0\n",
            "    - pysocks==1.7.1=py37_0\n",
            "    - python==3.7.6=h0371630_2\n",
            "    - readline==7.0=h7b6447c_5\n",
            "    - requests==2.22.0=py37_1\n",
            "    - ruamel_yaml==0.15.87=py37h7b6447c_0\n",
            "    - setuptools==45.2.0=py37_0\n",
            "    - six==1.14.0=py37_0\n",
            "    - sqlite==3.31.1=h7b6447c_0\n",
            "    - tk==8.6.8=hbc83047_0\n",
            "    - tqdm==4.42.1=py_0\n",
            "    - urllib3==1.25.8=py37_0\n",
            "    - wheel==0.34.2=py37_0\n",
            "    - xz==5.2.4=h14c3975_4\n",
            "    - yaml==0.1.7=had09818_2\n",
            "    - zlib==1.2.11=h7b6447c_3\n",
            "\n",
            "\n",
            "The following NEW packages will be INSTALLED:\n",
            "\n",
            "  _libgcc_mutex      pkgs/main/linux-64::_libgcc_mutex-0.1-main\n",
            "  asn1crypto         pkgs/main/linux-64::asn1crypto-1.3.0-py37_0\n",
            "  ca-certificates    pkgs/main/linux-64::ca-certificates-2020.1.1-0\n",
            "  certifi            pkgs/main/linux-64::certifi-2019.11.28-py37_0\n",
            "  cffi               pkgs/main/linux-64::cffi-1.14.0-py37h2e261b9_0\n",
            "  chardet            pkgs/main/linux-64::chardet-3.0.4-py37_1003\n",
            "  conda              pkgs/main/linux-64::conda-4.8.2-py37_0\n",
            "  conda-package-han~ pkgs/main/linux-64::conda-package-handling-1.6.0-py37h7b6447c_0\n",
            "  cryptography       pkgs/main/linux-64::cryptography-2.8-py37h1ba5d50_0\n",
            "  idna               pkgs/main/linux-64::idna-2.8-py37_0\n",
            "  ld_impl_linux-64   pkgs/main/linux-64::ld_impl_linux-64-2.33.1-h53a641e_7\n",
            "  libedit            pkgs/main/linux-64::libedit-3.1.20181209-hc058e9b_0\n",
            "  libffi             pkgs/main/linux-64::libffi-3.2.1-hd88cf55_4\n",
            "  libgcc-ng          pkgs/main/linux-64::libgcc-ng-9.1.0-hdf63c60_0\n",
            "  libstdcxx-ng       pkgs/main/linux-64::libstdcxx-ng-9.1.0-hdf63c60_0\n",
            "  ncurses            pkgs/main/linux-64::ncurses-6.2-he6710b0_0\n",
            "  openssl            pkgs/main/linux-64::openssl-1.1.1d-h7b6447c_4\n",
            "  pip                pkgs/main/linux-64::pip-20.0.2-py37_1\n",
            "  pycosat            pkgs/main/linux-64::pycosat-0.6.3-py37h7b6447c_0\n",
            "  pycparser          pkgs/main/linux-64::pycparser-2.19-py37_0\n",
            "  pyopenssl          pkgs/main/linux-64::pyopenssl-19.1.0-py37_0\n",
            "  pysocks            pkgs/main/linux-64::pysocks-1.7.1-py37_0\n",
            "  python             pkgs/main/linux-64::python-3.7.6-h0371630_2\n",
            "  readline           pkgs/main/linux-64::readline-7.0-h7b6447c_5\n",
            "  requests           pkgs/main/linux-64::requests-2.22.0-py37_1\n",
            "  ruamel_yaml        pkgs/main/linux-64::ruamel_yaml-0.15.87-py37h7b6447c_0\n",
            "  setuptools         pkgs/main/linux-64::setuptools-45.2.0-py37_0\n",
            "  six                pkgs/main/linux-64::six-1.14.0-py37_0\n",
            "  sqlite             pkgs/main/linux-64::sqlite-3.31.1-h7b6447c_0\n",
            "  tk                 pkgs/main/linux-64::tk-8.6.8-hbc83047_0\n",
            "  tqdm               pkgs/main/noarch::tqdm-4.42.1-py_0\n",
            "  urllib3            pkgs/main/linux-64::urllib3-1.25.8-py37_0\n",
            "  wheel              pkgs/main/linux-64::wheel-0.34.2-py37_0\n",
            "  xz                 pkgs/main/linux-64::xz-5.2.4-h14c3975_4\n",
            "  yaml               pkgs/main/linux-64::yaml-0.1.7-had09818_2\n",
            "  zlib               pkgs/main/linux-64::zlib-1.2.11-h7b6447c_3\n",
            "\n",
            "\n",
            "Preparing transaction: \\ \b\b| \b\b/ \b\b- \b\b\\ \b\bdone\n",
            "Executing transaction: / \b\b- \b\b\\ \b\b| \b\b/ \b\b- \b\b\\ \b\b| \b\b/ \b\b- \b\b\\ \b\b| \b\b/ \b\b- \b\b\\ \b\b| \b\b/ \b\b- \b\b\\ \b\b| \b\b/ \b\b- \b\b\\ \b\b| \b\b/ \b\b- \b\bdone\n",
            "installation finished.\n",
            "WARNING:\n",
            "    You currently have a PYTHONPATH environment variable set. This may cause\n",
            "    unexpected behavior when running the Python interpreter in Miniconda3.\n",
            "    For best results, please verify that your PYTHONPATH only points to\n",
            "    directories of packages that are compatible with the Python interpreter\n",
            "    in Miniconda3: /usr/local\n",
            "Collecting package metadata (current_repodata.json): - \b\b\\ \b\b| \b\b/ \b\b- \b\b\\ \b\b| \b\b/ \b\b- \b\b\\ \b\b| \b\b/ \b\b- \b\b\\ \b\b| \b\b/ \b\b- \b\b\\ \b\b| \b\b/ \b\b- \b\b\\ \b\b| \b\b/ \b\b- \b\b\\ \b\b| \b\b/ \b\b- \b\b\\ \b\b| \b\b/ \b\b- \b\b\\ \b\bdone\n",
            "Solving environment: / \b\b- \b\b\\ \b\b| \b\b/ \b\b- \b\b\\ \b\b| \b\b/ \b\b- \b\b\\ \b\b| \b\b/ \b\b- \b\b\\ \b\b| \b\bdone\n",
            "\n",
            "## Package Plan ##\n",
            "\n",
            "  environment location: /usr/local\n",
            "\n",
            "  added / updated specs:\n",
            "    - rdkit\n",
            "\n",
            "\n",
            "The following packages will be downloaded:\n",
            "\n",
            "    package                    |            build\n",
            "    ---------------------------|-----------------\n",
            "    blas-1.0                   |              mkl           6 KB\n",
            "    bzip2-1.0.8                |       h7b6447c_0          78 KB\n",
            "    ca-certificates-2021.4.13  |       h06a4308_1         114 KB\n",
            "    cairo-1.16.0               |       hf32fb01_1         1.0 MB\n",
            "    certifi-2020.12.5          |   py37h06a4308_0         141 KB\n",
            "    conda-4.10.1               |   py37h06a4308_1         2.9 MB\n",
            "    fontconfig-2.13.1          |       h6c09931_0         250 KB\n",
            "    freetype-2.10.4            |       h5ab3b9f_0         596 KB\n",
            "    glib-2.68.2                |       h36276a3_0         3.0 MB\n",
            "    icu-58.2                   |       he6710b0_3        10.5 MB\n",
            "    intel-openmp-2021.2.0      |     h06a4308_610         1.3 MB\n",
            "    jpeg-9b                    |       h024ee3a_2         214 KB\n",
            "    lcms2-2.12                 |       h3be6417_0         312 KB\n",
            "    libboost-1.73.0            |      h3ff78a5_11        13.9 MB\n",
            "    libffi-3.3                 |       he6710b0_2          50 KB\n",
            "    libpng-1.6.37              |       hbc83047_0         278 KB\n",
            "    libtiff-4.2.0              |       h85742a9_0         502 KB\n",
            "    libuuid-1.0.3              |       h1bed415_2          15 KB\n",
            "    libwebp-base-1.2.0         |       h27cfd23_0         437 KB\n",
            "    libxcb-1.14                |       h7b6447c_0         505 KB\n",
            "    libxml2-2.9.10             |       hb55368b_3         1.2 MB\n",
            "    lz4-c-1.9.3                |       h2531618_0         186 KB\n",
            "    mkl-2021.2.0               |     h06a4308_296       144.3 MB\n",
            "    mkl-service-2.3.0          |   py37h27cfd23_1          55 KB\n",
            "    mkl_fft-1.3.0              |   py37h42c9631_2         170 KB\n",
            "    mkl_random-1.2.1           |   py37ha9443f7_2         287 KB\n",
            "    numpy-1.20.2               |   py37h2d18471_0          23 KB\n",
            "    numpy-base-1.20.2          |   py37hfae3a4d_0         4.5 MB\n",
            "    olefile-0.46               |           py37_0          50 KB\n",
            "    openssl-1.1.1k             |       h27cfd23_0         2.5 MB\n",
            "    pandas-1.2.4               |   py37h2531618_0         8.5 MB\n",
            "    pcre-8.44                  |       he6710b0_0         212 KB\n",
            "    pillow-8.2.0               |   py37he98fc37_0         622 KB\n",
            "    pixman-0.40.0              |       h7b6447c_0         370 KB\n",
            "    py-boost-1.73.0            |  py37ha9443f7_11         204 KB\n",
            "    python-dateutil-2.8.1      |     pyhd3eb1b0_0         221 KB\n",
            "    pytz-2021.1                |     pyhd3eb1b0_0         181 KB\n",
            "    rdkit-2020.09.1.0          |   py37hd50e099_1        25.8 MB  rdkit\n",
            "    xz-5.2.5                   |       h7b6447c_0         341 KB\n",
            "    zstd-1.4.5                 |       h9ceee32_0         619 KB\n",
            "    ------------------------------------------------------------\n",
            "                                           Total:       226.3 MB\n",
            "\n",
            "The following NEW packages will be INSTALLED:\n",
            "\n",
            "  blas               pkgs/main/linux-64::blas-1.0-mkl\n",
            "  bzip2              pkgs/main/linux-64::bzip2-1.0.8-h7b6447c_0\n",
            "  cairo              pkgs/main/linux-64::cairo-1.16.0-hf32fb01_1\n",
            "  fontconfig         pkgs/main/linux-64::fontconfig-2.13.1-h6c09931_0\n",
            "  freetype           pkgs/main/linux-64::freetype-2.10.4-h5ab3b9f_0\n",
            "  glib               pkgs/main/linux-64::glib-2.68.2-h36276a3_0\n",
            "  icu                pkgs/main/linux-64::icu-58.2-he6710b0_3\n",
            "  intel-openmp       pkgs/main/linux-64::intel-openmp-2021.2.0-h06a4308_610\n",
            "  jpeg               pkgs/main/linux-64::jpeg-9b-h024ee3a_2\n",
            "  lcms2              pkgs/main/linux-64::lcms2-2.12-h3be6417_0\n",
            "  libboost           pkgs/main/linux-64::libboost-1.73.0-h3ff78a5_11\n",
            "  libpng             pkgs/main/linux-64::libpng-1.6.37-hbc83047_0\n",
            "  libtiff            pkgs/main/linux-64::libtiff-4.2.0-h85742a9_0\n",
            "  libuuid            pkgs/main/linux-64::libuuid-1.0.3-h1bed415_2\n",
            "  libwebp-base       pkgs/main/linux-64::libwebp-base-1.2.0-h27cfd23_0\n",
            "  libxcb             pkgs/main/linux-64::libxcb-1.14-h7b6447c_0\n",
            "  libxml2            pkgs/main/linux-64::libxml2-2.9.10-hb55368b_3\n",
            "  lz4-c              pkgs/main/linux-64::lz4-c-1.9.3-h2531618_0\n",
            "  mkl                pkgs/main/linux-64::mkl-2021.2.0-h06a4308_296\n",
            "  mkl-service        pkgs/main/linux-64::mkl-service-2.3.0-py37h27cfd23_1\n",
            "  mkl_fft            pkgs/main/linux-64::mkl_fft-1.3.0-py37h42c9631_2\n",
            "  mkl_random         pkgs/main/linux-64::mkl_random-1.2.1-py37ha9443f7_2\n",
            "  numpy              pkgs/main/linux-64::numpy-1.20.2-py37h2d18471_0\n",
            "  numpy-base         pkgs/main/linux-64::numpy-base-1.20.2-py37hfae3a4d_0\n",
            "  olefile            pkgs/main/linux-64::olefile-0.46-py37_0\n",
            "  pandas             pkgs/main/linux-64::pandas-1.2.4-py37h2531618_0\n",
            "  pcre               pkgs/main/linux-64::pcre-8.44-he6710b0_0\n",
            "  pillow             pkgs/main/linux-64::pillow-8.2.0-py37he98fc37_0\n",
            "  pixman             pkgs/main/linux-64::pixman-0.40.0-h7b6447c_0\n",
            "  py-boost           pkgs/main/linux-64::py-boost-1.73.0-py37ha9443f7_11\n",
            "  python-dateutil    pkgs/main/noarch::python-dateutil-2.8.1-pyhd3eb1b0_0\n",
            "  pytz               pkgs/main/noarch::pytz-2021.1-pyhd3eb1b0_0\n",
            "  rdkit              rdkit/linux-64::rdkit-2020.09.1.0-py37hd50e099_1\n",
            "  zstd               pkgs/main/linux-64::zstd-1.4.5-h9ceee32_0\n",
            "\n",
            "The following packages will be UPDATED:\n",
            "\n",
            "  ca-certificates                                2020.1.1-0 --> 2021.4.13-h06a4308_1\n",
            "  certifi                                 2019.11.28-py37_0 --> 2020.12.5-py37h06a4308_0\n",
            "  conda                                        4.8.2-py37_0 --> 4.10.1-py37h06a4308_1\n",
            "  libffi                                   3.2.1-hd88cf55_4 --> 3.3-he6710b0_2\n",
            "  openssl                                 1.1.1d-h7b6447c_4 --> 1.1.1k-h27cfd23_0\n",
            "  xz                                       5.2.4-h14c3975_4 --> 5.2.5-h7b6447c_0\n",
            "\n",
            "\n",
            "\n",
            "Downloading and Extracting Packages\n",
            "olefile-0.46         | 50 KB     | : 100% 1.0/1 [00:00<00:00,  4.93it/s]               \n",
            "pytz-2021.1          | 181 KB    | : 100% 1.0/1 [00:00<00:00,  4.72it/s]\n",
            "jpeg-9b              | 214 KB    | : 100% 1.0/1 [00:00<00:00,  7.87it/s]\n",
            "intel-openmp-2021.2. | 1.3 MB    | : 100% 1.0/1 [00:00<00:00,  4.26it/s]\n",
            "lcms2-2.12           | 312 KB    | : 100% 1.0/1 [00:00<00:00,  7.19it/s]\n",
            "xz-5.2.5             | 341 KB    | : 100% 1.0/1 [00:00<00:00,  6.69it/s]\n",
            "certifi-2020.12.5    | 141 KB    | : 100% 1.0/1 [00:00<00:00,  9.81it/s]\n",
            "ca-certificates-2021 | 114 KB    | : 100% 1.0/1 [00:00<00:00, 10.39it/s]\n",
            "pandas-1.2.4         | 8.5 MB    | : 100% 1.0/1 [00:01<00:00,  1.32s/it]               \n",
            "libtiff-4.2.0        | 502 KB    | : 100% 1.0/1 [00:00<00:00,  2.27it/s]\n",
            "zstd-1.4.5           | 619 KB    | : 100% 1.0/1 [00:00<00:00,  2.74it/s]\n",
            "libboost-1.73.0      | 13.9 MB   | : 100% 1.0/1 [00:04<00:00,  3.64s/it]              \n",
            "icu-58.2             | 10.5 MB   | : 100% 1.0/1 [00:00<00:00,  1.25s/it]               \n",
            "libuuid-1.0.3        | 15 KB     | : 100% 1.0/1 [00:00<00:00,  9.27it/s]\n",
            "numpy-1.20.2         | 23 KB     | : 100% 1.0/1 [00:00<00:00, 11.92it/s]\n",
            "blas-1.0             | 6 KB      | : 100% 1.0/1 [00:00<00:00,  9.11it/s]\n",
            "pcre-8.44            | 212 KB    | : 100% 1.0/1 [00:00<00:00, 10.40it/s]\n",
            "pixman-0.40.0        | 370 KB    | : 100% 1.0/1 [00:00<00:00, 13.20it/s]\n",
            "rdkit-2020.09.1.0    | 25.8 MB   | : 100% 1.0/1 [00:05<00:00,  5.85s/it]\n",
            "conda-4.10.1         | 2.9 MB    | : 100% 1.0/1 [00:00<00:00,  4.38it/s]\n",
            "fontconfig-2.13.1    | 250 KB    | : 100% 1.0/1 [00:00<00:00, 11.33it/s]\n",
            "libxml2-2.9.10       | 1.2 MB    | : 100% 1.0/1 [00:00<00:00,  4.66it/s]\n",
            "pillow-8.2.0         | 622 KB    | : 100% 1.0/1 [00:00<00:00,  8.97it/s]\n",
            "freetype-2.10.4      | 596 KB    | : 100% 1.0/1 [00:00<00:00,  8.98it/s]\n",
            "glib-2.68.2          | 3.0 MB    | : 100% 1.0/1 [00:00<00:00,  3.10it/s]               \n",
            "libpng-1.6.37        | 278 KB    | : 100% 1.0/1 [00:00<00:00, 12.67it/s]\n",
            "cairo-1.16.0         | 1.0 MB    | : 100% 1.0/1 [00:00<00:00,  6.49it/s]\n",
            "bzip2-1.0.8          | 78 KB     | : 100% 1.0/1 [00:00<00:00, 14.64it/s]\n",
            "libffi-3.3           | 50 KB     | : 100% 1.0/1 [00:00<00:00, 15.58it/s]\n",
            "libxcb-1.14          | 505 KB    | : 100% 1.0/1 [00:00<00:00,  9.37it/s]\n",
            "mkl_random-1.2.1     | 287 KB    | : 100% 1.0/1 [00:00<00:00, 11.68it/s]\n",
            "mkl-2021.2.0         | 144.3 MB  | : 100% 1.0/1 [00:07<00:00,  7.39s/it]              \n",
            "openssl-1.1.1k       | 2.5 MB    | : 100% 1.0/1 [00:00<00:00,  5.77it/s]\n",
            "libwebp-base-1.2.0   | 437 KB    | : 100% 1.0/1 [00:00<00:00,  9.52it/s]\n",
            "mkl_fft-1.3.0        | 170 KB    | : 100% 1.0/1 [00:00<00:00, 13.95it/s]\n",
            "lz4-c-1.9.3          | 186 KB    | : 100% 1.0/1 [00:00<00:00, 14.30it/s]\n",
            "py-boost-1.73.0      | 204 KB    | : 100% 1.0/1 [00:00<00:00, 12.43it/s]\n",
            "python-dateutil-2.8. | 221 KB    | : 100% 1.0/1 [00:00<00:00, 15.58it/s]\n",
            "mkl-service-2.3.0    | 55 KB     | : 100% 1.0/1 [00:00<00:00, 14.88it/s]\n",
            "numpy-base-1.20.2    | 4.5 MB    | : 100% 1.0/1 [00:00<00:00,  3.31it/s]\n",
            "Preparing transaction: - \b\b\\ \b\b| \b\b/ \b\b- \b\b\\ \b\b| \b\b/ \b\b- \b\b\\ \b\bdone\n",
            "Verifying transaction: / \b\b- \b\b\\ \b\b| \b\b/ \b\b- \b\b\\ \b\b| \b\b/ \b\b- \b\b\\ \b\b| \b\b/ \b\b- \b\b\\ \b\b| \b\b/ \b\b- \b\b\\ \b\b| \b\b/ \b\b- \b\b\\ \b\b| \b\b/ \b\b- \b\b\\ \b\b| \b\b/ \b\b- \b\b\\ \b\b| \b\b/ \b\b- \b\bdone\n",
            "Executing transaction: | \b\b/ \b\b- \b\b\\ \b\b| \b\b/ \b\b- \b\b\\ \b\b| \b\b/ \b\b- \b\b\\ \b\b| \b\b/ \b\b- \b\b\\ \b\b| \b\b/ \b\b- \b\b\\ \b\b| \b\b/ \b\b- \b\b\\ \b\b| \b\b/ \b\b- \b\b\\ \b\b| \b\b/ \b\b- \b\b\\ \b\b| \b\b/ \b\b- \b\b\\ \b\b| \b\b/ \b\b- \b\b\\ \b\b| \b\b/ \b\b- \b\b\\ \b\b| \b\b/ \b\b- \b\b\\ \b\b| \b\b/ \b\b- \b\b\\ \b\b| \b\b/ \b\b- \b\b\\ \b\b| \b\b/ \b\b- \b\b\\ \b\b| \b\b/ \b\b- \b\b\\ \b\b| \b\b/ \b\b- \b\b\\ \b\b| \b\b/ \b\b- \b\b\\ \b\b| \b\b/ \b\b- \b\b\\ \b\b| \b\b/ \b\b- \b\b\\ \b\b| \b\b/ \b\b- \b\b\\ \b\b| \b\b/ \b\b- \b\b\\ \b\b| \b\b/ \b\b- \b\b\\ \b\b| \b\b/ \b\b- \b\b\\ \b\b| \b\b/ \b\b- \b\b\\ \b\b| \b\b/ \b\b- \b\b\\ \b\b| \b\b/ \b\b- \b\b\\ \b\b| \b\b/ \b\b- \b\b\\ \b\b| \b\b/ \b\b- \b\b\\ \b\b| \b\b/ \b\b- \b\b\\ \b\b| \b\b/ \b\b- \b\b\\ \b\b| \b\b/ \b\b- \b\b\\ \b\b| \b\b/ \b\b- \b\b\\ \b\b| \b\b/ \b\b- \b\b\\ \b\bdone\n"
          ],
          "name": "stdout"
        }
      ]
    },
    {
      "cell_type": "markdown",
      "metadata": {
        "id": "QmxXXFa4wTNG"
      },
      "source": [
        "## **Load bioactivity data**"
      ]
    },
    {
      "cell_type": "code",
      "metadata": {
        "id": "Fpu5C7HlwV9s"
      },
      "source": [
        "import pandas as pd"
      ],
      "execution_count": null,
      "outputs": []
    },
    {
      "cell_type": "code",
      "metadata": {
        "colab": {
          "base_uri": "https://localhost:8080/",
          "height": 473
        },
        "id": "GCcE8J5XwjtB",
        "outputId": "ffe5fe38-10ea-4b7d-aa24-a863e1e9c01f"
      },
      "source": [
        "df = pd.read_csv('/content/smile_activity_data_short.csv')\n",
        "df"
      ],
      "execution_count": null,
      "outputs": [
        {
          "output_type": "execute_result",
          "data": {
            "text/html": [
              "<div>\n",
              "<style scoped>\n",
              "    .dataframe tbody tr th:only-of-type {\n",
              "        vertical-align: middle;\n",
              "    }\n",
              "\n",
              "    .dataframe tbody tr th {\n",
              "        vertical-align: top;\n",
              "    }\n",
              "\n",
              "    .dataframe thead th {\n",
              "        text-align: right;\n",
              "    }\n",
              "</style>\n",
              "<table border=\"1\" class=\"dataframe\">\n",
              "  <thead>\n",
              "    <tr style=\"text-align: right;\">\n",
              "      <th></th>\n",
              "      <th>PUBCHEM_SID</th>\n",
              "      <th>PUBCHEM_ACTIVITY_OUTCOME</th>\n",
              "      <th>PUBCHEM_ACTIVITY_SCORE</th>\n",
              "      <th>SMILES</th>\n",
              "    </tr>\n",
              "  </thead>\n",
              "  <tbody>\n",
              "    <tr>\n",
              "      <th>0</th>\n",
              "      <td>85807145</td>\n",
              "      <td>Active</td>\n",
              "      <td>87.0</td>\n",
              "      <td>C[C@@H]1CN(C(=O)C2=C(C(=CC=C2)NS(=O)(=O)C3=C(O...</td>\n",
              "    </tr>\n",
              "    <tr>\n",
              "      <th>1</th>\n",
              "      <td>85791767</td>\n",
              "      <td>Active</td>\n",
              "      <td>57.0</td>\n",
              "      <td>C[C@@H]1CN(C(=O)C2=C(C=CC(=C2)NC(=O)CC3=CN(C4=...</td>\n",
              "    </tr>\n",
              "    <tr>\n",
              "      <th>2</th>\n",
              "      <td>85799112</td>\n",
              "      <td>Active</td>\n",
              "      <td>68.0</td>\n",
              "      <td>C[C@H]1CN(C(=O)C2=C(C(=CC=C2)NC(=O)NC3=CC=C(C=...</td>\n",
              "    </tr>\n",
              "    <tr>\n",
              "      <th>3</th>\n",
              "      <td>131418956</td>\n",
              "      <td>Active</td>\n",
              "      <td>22.0</td>\n",
              "      <td>C[C@@H]1CN(S(=O)(=O)C2=C(C=C(C=C2)C#CC3=CC=CC=...</td>\n",
              "    </tr>\n",
              "    <tr>\n",
              "      <th>4</th>\n",
              "      <td>131443791</td>\n",
              "      <td>Active</td>\n",
              "      <td>27.0</td>\n",
              "      <td>C1CC1CNC(=O)C[C@@H]2C[C@@H]3[C@H]([C@@H](O2)CO...</td>\n",
              "    </tr>\n",
              "    <tr>\n",
              "      <th>...</th>\n",
              "      <td>...</td>\n",
              "      <td>...</td>\n",
              "      <td>...</td>\n",
              "      <td>...</td>\n",
              "    </tr>\n",
              "    <tr>\n",
              "      <th>11127</th>\n",
              "      <td>131442737</td>\n",
              "      <td>Inactive</td>\n",
              "      <td>1.0</td>\n",
              "      <td>CS(=O)(=O)NC1=CC2=C(C=C1)O[C@@H]3[C@H]2C[C@H](...</td>\n",
              "    </tr>\n",
              "    <tr>\n",
              "      <th>11128</th>\n",
              "      <td>85795573</td>\n",
              "      <td>Inactive</td>\n",
              "      <td>5.0</td>\n",
              "      <td>C[C@@H]1CN(C(=O)C2=C(C=CC(=C2)NS(=O)(=O)C3=CC=...</td>\n",
              "    </tr>\n",
              "    <tr>\n",
              "      <th>11129</th>\n",
              "      <td>26726705</td>\n",
              "      <td>Inactive</td>\n",
              "      <td>2.0</td>\n",
              "      <td>C1COCCN1CCCN2C(NC3=CC=CC=C3C2=O)C4=CC=CC=C4</td>\n",
              "    </tr>\n",
              "    <tr>\n",
              "      <th>11130</th>\n",
              "      <td>49723061</td>\n",
              "      <td>Inactive</td>\n",
              "      <td>-1.0</td>\n",
              "      <td>C1COC2=CC=CC=C2N1C(=O)CCC(=O)NC3=CC=CC=C3Br</td>\n",
              "    </tr>\n",
              "    <tr>\n",
              "      <th>11131</th>\n",
              "      <td>85268579</td>\n",
              "      <td>Inactive</td>\n",
              "      <td>-4.0</td>\n",
              "      <td>CC1=C(N2C=CC=CC2=C1C=NNC(=O)C3=CC=C(C=C3)Br)C(...</td>\n",
              "    </tr>\n",
              "  </tbody>\n",
              "</table>\n",
              "<p>11132 rows × 4 columns</p>\n",
              "</div>"
            ],
            "text/plain": [
              "       PUBCHEM_SID  ...                                             SMILES\n",
              "0         85807145  ...  C[C@@H]1CN(C(=O)C2=C(C(=CC=C2)NS(=O)(=O)C3=C(O...\n",
              "1         85791767  ...  C[C@@H]1CN(C(=O)C2=C(C=CC(=C2)NC(=O)CC3=CN(C4=...\n",
              "2         85799112  ...  C[C@H]1CN(C(=O)C2=C(C(=CC=C2)NC(=O)NC3=CC=C(C=...\n",
              "3        131418956  ...  C[C@@H]1CN(S(=O)(=O)C2=C(C=C(C=C2)C#CC3=CC=CC=...\n",
              "4        131443791  ...  C1CC1CNC(=O)C[C@@H]2C[C@@H]3[C@H]([C@@H](O2)CO...\n",
              "...            ...  ...                                                ...\n",
              "11127    131442737  ...  CS(=O)(=O)NC1=CC2=C(C=C1)O[C@@H]3[C@H]2C[C@H](...\n",
              "11128     85795573  ...  C[C@@H]1CN(C(=O)C2=C(C=CC(=C2)NS(=O)(=O)C3=CC=...\n",
              "11129     26726705  ...        C1COCCN1CCCN2C(NC3=CC=CC=C3C2=O)C4=CC=CC=C4\n",
              "11130     49723061  ...        C1COC2=CC=CC=C2N1C(=O)CCC(=O)NC3=CC=CC=C3Br\n",
              "11131     85268579  ...  CC1=C(N2C=CC=CC2=C1C=NNC(=O)C3=CC=C(C=C3)Br)C(...\n",
              "\n",
              "[11132 rows x 4 columns]"
            ]
          },
          "metadata": {
            "tags": []
          },
          "execution_count": 3
        }
      ]
    },
    {
      "cell_type": "markdown",
      "metadata": {
        "id": "DrhLgcvbY17C"
      },
      "source": [
        "## **Clean Bioactivity data**"
      ]
    },
    {
      "cell_type": "code",
      "metadata": {
        "id": "7AMm19NW0bJR"
      },
      "source": [
        "df_no_smiles = df.drop(columns='SMILES')"
      ],
      "execution_count": null,
      "outputs": []
    },
    {
      "cell_type": "code",
      "metadata": {
        "id": "aymiQsfdr5sY"
      },
      "source": [
        "smiles = []\n",
        "\n",
        "for i in df.SMILES.tolist():\n",
        "  cpd = str(i).split('.')\n",
        "  cpd_longest = max(cpd, key = len)\n",
        "  smiles.append(cpd_longest)\n",
        "\n",
        "smiles = pd.Series(smiles, name = 'canonical_smiles')"
      ],
      "execution_count": null,
      "outputs": []
    },
    {
      "cell_type": "code",
      "metadata": {
        "colab": {
          "base_uri": "https://localhost:8080/",
          "height": 473
        },
        "id": "l7a8qW_U85ZK",
        "outputId": "3f9de5bd-8ca1-4411-b398-6f1ffdcb315e"
      },
      "source": [
        "df_clean_smiles = pd.concat([df_no_smiles,smiles], axis=1)\n",
        "df_clean_smiles"
      ],
      "execution_count": null,
      "outputs": [
        {
          "output_type": "execute_result",
          "data": {
            "text/html": [
              "<div>\n",
              "<style scoped>\n",
              "    .dataframe tbody tr th:only-of-type {\n",
              "        vertical-align: middle;\n",
              "    }\n",
              "\n",
              "    .dataframe tbody tr th {\n",
              "        vertical-align: top;\n",
              "    }\n",
              "\n",
              "    .dataframe thead th {\n",
              "        text-align: right;\n",
              "    }\n",
              "</style>\n",
              "<table border=\"1\" class=\"dataframe\">\n",
              "  <thead>\n",
              "    <tr style=\"text-align: right;\">\n",
              "      <th></th>\n",
              "      <th>PUBCHEM_SID</th>\n",
              "      <th>PUBCHEM_ACTIVITY_OUTCOME</th>\n",
              "      <th>PUBCHEM_ACTIVITY_SCORE</th>\n",
              "      <th>canonical_smiles</th>\n",
              "    </tr>\n",
              "  </thead>\n",
              "  <tbody>\n",
              "    <tr>\n",
              "      <th>0</th>\n",
              "      <td>85807145</td>\n",
              "      <td>Active</td>\n",
              "      <td>87.0</td>\n",
              "      <td>C[C@@H]1CN(C(=O)C2=C(C(=CC=C2)NS(=O)(=O)C3=C(O...</td>\n",
              "    </tr>\n",
              "    <tr>\n",
              "      <th>1</th>\n",
              "      <td>85791767</td>\n",
              "      <td>Active</td>\n",
              "      <td>57.0</td>\n",
              "      <td>C[C@@H]1CN(C(=O)C2=C(C=CC(=C2)NC(=O)CC3=CN(C4=...</td>\n",
              "    </tr>\n",
              "    <tr>\n",
              "      <th>2</th>\n",
              "      <td>85799112</td>\n",
              "      <td>Active</td>\n",
              "      <td>68.0</td>\n",
              "      <td>C[C@H]1CN(C(=O)C2=C(C(=CC=C2)NC(=O)NC3=CC=C(C=...</td>\n",
              "    </tr>\n",
              "    <tr>\n",
              "      <th>3</th>\n",
              "      <td>131418956</td>\n",
              "      <td>Active</td>\n",
              "      <td>22.0</td>\n",
              "      <td>C[C@@H]1CN(S(=O)(=O)C2=C(C=C(C=C2)C#CC3=CC=CC=...</td>\n",
              "    </tr>\n",
              "    <tr>\n",
              "      <th>4</th>\n",
              "      <td>131443791</td>\n",
              "      <td>Active</td>\n",
              "      <td>27.0</td>\n",
              "      <td>C1CC1CNC(=O)C[C@@H]2C[C@@H]3[C@H]([C@@H](O2)CO...</td>\n",
              "    </tr>\n",
              "    <tr>\n",
              "      <th>...</th>\n",
              "      <td>...</td>\n",
              "      <td>...</td>\n",
              "      <td>...</td>\n",
              "      <td>...</td>\n",
              "    </tr>\n",
              "    <tr>\n",
              "      <th>11127</th>\n",
              "      <td>131442737</td>\n",
              "      <td>Inactive</td>\n",
              "      <td>1.0</td>\n",
              "      <td>CS(=O)(=O)NC1=CC2=C(C=C1)O[C@@H]3[C@H]2C[C@H](...</td>\n",
              "    </tr>\n",
              "    <tr>\n",
              "      <th>11128</th>\n",
              "      <td>85795573</td>\n",
              "      <td>Inactive</td>\n",
              "      <td>5.0</td>\n",
              "      <td>C[C@@H]1CN(C(=O)C2=C(C=CC(=C2)NS(=O)(=O)C3=CC=...</td>\n",
              "    </tr>\n",
              "    <tr>\n",
              "      <th>11129</th>\n",
              "      <td>26726705</td>\n",
              "      <td>Inactive</td>\n",
              "      <td>2.0</td>\n",
              "      <td>C1COCCN1CCCN2C(NC3=CC=CC=C3C2=O)C4=CC=CC=C4</td>\n",
              "    </tr>\n",
              "    <tr>\n",
              "      <th>11130</th>\n",
              "      <td>49723061</td>\n",
              "      <td>Inactive</td>\n",
              "      <td>-1.0</td>\n",
              "      <td>C1COC2=CC=CC=C2N1C(=O)CCC(=O)NC3=CC=CC=C3Br</td>\n",
              "    </tr>\n",
              "    <tr>\n",
              "      <th>11131</th>\n",
              "      <td>85268579</td>\n",
              "      <td>Inactive</td>\n",
              "      <td>-4.0</td>\n",
              "      <td>CC1=C(N2C=CC=CC2=C1C=NNC(=O)C3=CC=C(C=C3)Br)C(...</td>\n",
              "    </tr>\n",
              "  </tbody>\n",
              "</table>\n",
              "<p>11132 rows × 4 columns</p>\n",
              "</div>"
            ],
            "text/plain": [
              "       PUBCHEM_SID  ...                                   canonical_smiles\n",
              "0         85807145  ...  C[C@@H]1CN(C(=O)C2=C(C(=CC=C2)NS(=O)(=O)C3=C(O...\n",
              "1         85791767  ...  C[C@@H]1CN(C(=O)C2=C(C=CC(=C2)NC(=O)CC3=CN(C4=...\n",
              "2         85799112  ...  C[C@H]1CN(C(=O)C2=C(C(=CC=C2)NC(=O)NC3=CC=C(C=...\n",
              "3        131418956  ...  C[C@@H]1CN(S(=O)(=O)C2=C(C=C(C=C2)C#CC3=CC=CC=...\n",
              "4        131443791  ...  C1CC1CNC(=O)C[C@@H]2C[C@@H]3[C@H]([C@@H](O2)CO...\n",
              "...            ...  ...                                                ...\n",
              "11127    131442737  ...  CS(=O)(=O)NC1=CC2=C(C=C1)O[C@@H]3[C@H]2C[C@H](...\n",
              "11128     85795573  ...  C[C@@H]1CN(C(=O)C2=C(C=CC(=C2)NS(=O)(=O)C3=CC=...\n",
              "11129     26726705  ...        C1COCCN1CCCN2C(NC3=CC=CC=C3C2=O)C4=CC=CC=C4\n",
              "11130     49723061  ...        C1COC2=CC=CC=C2N1C(=O)CCC(=O)NC3=CC=CC=C3Br\n",
              "11131     85268579  ...  CC1=C(N2C=CC=CC2=C1C=NNC(=O)C3=CC=C(C=C3)Br)C(...\n",
              "\n",
              "[11132 rows x 4 columns]"
            ]
          },
          "metadata": {
            "tags": []
          },
          "execution_count": 6
        }
      ]
    },
    {
      "cell_type": "markdown",
      "metadata": {
        "id": "YzN_S4Quro5S"
      },
      "source": [
        "## **Calculate Lipinski descriptors**\n",
        "\n",
        "The Lipinski's Rule stated the following:\n",
        "* Molecular weight < 500 Dalton\n",
        "* Octanol-water partition coefficient (LogP) < 5\n",
        "* Hydrogen bond donors < 5\n",
        "* Hydrogen bond acceptors < 10 "
      ]
    },
    {
      "cell_type": "markdown",
      "metadata": {
        "id": "9qn_eQcnxY7C"
      },
      "source": [
        "### **Import libraries**"
      ]
    },
    {
      "cell_type": "code",
      "metadata": {
        "id": "CgBjIdT-rnRU"
      },
      "source": [
        "import numpy as np\n",
        "from rdkit import Chem\n",
        "from rdkit.Chem import Descriptors, Lipinski"
      ],
      "execution_count": null,
      "outputs": []
    },
    {
      "cell_type": "markdown",
      "metadata": {
        "id": "JsgTV-ByxdMa"
      },
      "source": [
        "### **Calculate descriptors**"
      ]
    },
    {
      "cell_type": "code",
      "metadata": {
        "id": "bCXEY7a9ugO_"
      },
      "source": [
        "# Inspired by: https://codeocean.com/explore/capsules?query=tag:data-curation\n",
        "\n",
        "def get_moldata(smiles, verbose=False):\n",
        "    moldata= []\n",
        "    for elem in smiles:\n",
        "        mol=Chem.MolFromSmiles(elem) \n",
        "        moldata.append(mol)\n",
        "\n",
        "    return moldata\n",
        "\n",
        "\n",
        "def clean_Nones(moldata, df):\n",
        "    indices_to_drop = []\n",
        "    new_moldata = []\n",
        "    index = 0\n",
        "    for i in moldata:\n",
        "        if type(i) == type(moldata[0]):\n",
        "            new_moldata.append(i)\n",
        "        else:\n",
        "            indices_to_drop.append(index)\n",
        "        index += 1\n",
        "\n",
        "    new_df = df.copy()\n",
        "    new_df = new_df.drop(index=list(indices_to_drop), inplace=False)\n",
        "    new_df = new_df.reset_index(drop=True, inplace=False)\n",
        "\n",
        "    print(f\"Dropped {len(indices_to_drop)} rows\")\n",
        "    print(f\"Found {len(new_moldata)} useful moldata\")\n",
        "\n",
        "    return new_moldata, new_df\n",
        "\n",
        "\n",
        "def lipinski(moldata, verbose=False):\n",
        "       \n",
        "    baseData= np.arange(1,1)\n",
        "    i=0  \n",
        "    counter = 0\n",
        "    for mol in moldata:\n",
        "        counter += 1\n",
        "        if counter%100 == 0:\n",
        "          print(f\"{counter} out of {len(moldata)}\")\n",
        "        \n",
        "        desc_MolWt = Descriptors.MolWt(mol)\n",
        "        desc_MolLogP = Descriptors.MolLogP(mol)\n",
        "        desc_NumHDonors = Lipinski.NumHDonors(mol)\n",
        "        desc_NumHAcceptors = Lipinski.NumHAcceptors(mol)\n",
        "          \n",
        "        row = np.array([desc_MolWt,\n",
        "                        desc_MolLogP,\n",
        "                        desc_NumHDonors,\n",
        "                        desc_NumHAcceptors])   \n",
        "    \n",
        "        if(i==0):\n",
        "            baseData=row\n",
        "        else:\n",
        "            baseData=np.vstack([baseData, row])\n",
        "        i=i+1    \n",
        "\n",
        "        \n",
        "    columnNames=[\"MW\",\"LogP\",\"NumHDonors\",\"NumHAcceptors\"]   \n",
        "    descriptors = pd.DataFrame(data=baseData,columns=columnNames)\n",
        "    \n",
        "    return descriptors"
      ],
      "execution_count": null,
      "outputs": []
    },
    {
      "cell_type": "code",
      "metadata": {
        "colab": {
          "base_uri": "https://localhost:8080/"
        },
        "id": "7xD-TIZnI-3j",
        "outputId": "38994503-0044-4ade-d2bb-817e250a11a0"
      },
      "source": [
        "moldata = get_moldata(df_clean_smiles.canonical_smiles)\n",
        "(cleaned_moldata, new_df_clean_smiles) = clean_Nones(moldata,df_clean_smiles)\n",
        "df_lipinski = lipinski(cleaned_moldata)"
      ],
      "execution_count": null,
      "outputs": [
        {
          "output_type": "stream",
          "text": [
            "Dropped 0 rows\n",
            "Found 11132 useful moldata\n",
            "100 out of 11132\n",
            "200 out of 11132\n",
            "300 out of 11132\n",
            "400 out of 11132\n",
            "500 out of 11132\n",
            "600 out of 11132\n",
            "700 out of 11132\n",
            "800 out of 11132\n",
            "900 out of 11132\n",
            "1000 out of 11132\n",
            "1100 out of 11132\n",
            "1200 out of 11132\n",
            "1300 out of 11132\n",
            "1400 out of 11132\n",
            "1500 out of 11132\n",
            "1600 out of 11132\n",
            "1700 out of 11132\n",
            "1800 out of 11132\n",
            "1900 out of 11132\n",
            "2000 out of 11132\n",
            "2100 out of 11132\n",
            "2200 out of 11132\n",
            "2300 out of 11132\n",
            "2400 out of 11132\n",
            "2500 out of 11132\n",
            "2600 out of 11132\n",
            "2700 out of 11132\n",
            "2800 out of 11132\n",
            "2900 out of 11132\n",
            "3000 out of 11132\n",
            "3100 out of 11132\n",
            "3200 out of 11132\n",
            "3300 out of 11132\n",
            "3400 out of 11132\n",
            "3500 out of 11132\n",
            "3600 out of 11132\n",
            "3700 out of 11132\n",
            "3800 out of 11132\n",
            "3900 out of 11132\n",
            "4000 out of 11132\n",
            "4100 out of 11132\n",
            "4200 out of 11132\n",
            "4300 out of 11132\n",
            "4400 out of 11132\n",
            "4500 out of 11132\n",
            "4600 out of 11132\n",
            "4700 out of 11132\n",
            "4800 out of 11132\n",
            "4900 out of 11132\n",
            "5000 out of 11132\n",
            "5100 out of 11132\n",
            "5200 out of 11132\n",
            "5300 out of 11132\n",
            "5400 out of 11132\n",
            "5500 out of 11132\n",
            "5600 out of 11132\n",
            "5700 out of 11132\n",
            "5800 out of 11132\n",
            "5900 out of 11132\n",
            "6000 out of 11132\n",
            "6100 out of 11132\n",
            "6200 out of 11132\n",
            "6300 out of 11132\n",
            "6400 out of 11132\n",
            "6500 out of 11132\n",
            "6600 out of 11132\n",
            "6700 out of 11132\n",
            "6800 out of 11132\n",
            "6900 out of 11132\n",
            "7000 out of 11132\n",
            "7100 out of 11132\n",
            "7200 out of 11132\n",
            "7300 out of 11132\n",
            "7400 out of 11132\n",
            "7500 out of 11132\n",
            "7600 out of 11132\n",
            "7700 out of 11132\n",
            "7800 out of 11132\n",
            "7900 out of 11132\n",
            "8000 out of 11132\n",
            "8100 out of 11132\n",
            "8200 out of 11132\n",
            "8300 out of 11132\n",
            "8400 out of 11132\n",
            "8500 out of 11132\n",
            "8600 out of 11132\n",
            "8700 out of 11132\n",
            "8800 out of 11132\n",
            "8900 out of 11132\n",
            "9000 out of 11132\n",
            "9100 out of 11132\n",
            "9200 out of 11132\n",
            "9300 out of 11132\n",
            "9400 out of 11132\n",
            "9500 out of 11132\n",
            "9600 out of 11132\n",
            "9700 out of 11132\n",
            "9800 out of 11132\n",
            "9900 out of 11132\n",
            "10000 out of 11132\n",
            "10100 out of 11132\n",
            "10200 out of 11132\n",
            "10300 out of 11132\n",
            "10400 out of 11132\n",
            "10500 out of 11132\n",
            "10600 out of 11132\n",
            "10700 out of 11132\n",
            "10800 out of 11132\n",
            "10900 out of 11132\n",
            "11000 out of 11132\n",
            "11100 out of 11132\n"
          ],
          "name": "stdout"
        }
      ]
    },
    {
      "cell_type": "markdown",
      "metadata": {
        "id": "gUMlPfFrxicj"
      },
      "source": [
        "### **Combine DataFrames**\n",
        "\n",
        "Let's take a look at the 2 DataFrames that will be combined."
      ]
    },
    {
      "cell_type": "code",
      "metadata": {
        "id": "MTpynSb85PuO",
        "colab": {
          "base_uri": "https://localhost:8080/",
          "height": 419
        },
        "outputId": "ec44acae-6e1c-458a-b437-3fdd7610ce5c"
      },
      "source": [
        " df_lipinski"
      ],
      "execution_count": null,
      "outputs": [
        {
          "output_type": "execute_result",
          "data": {
            "text/html": [
              "<div>\n",
              "<style scoped>\n",
              "    .dataframe tbody tr th:only-of-type {\n",
              "        vertical-align: middle;\n",
              "    }\n",
              "\n",
              "    .dataframe tbody tr th {\n",
              "        vertical-align: top;\n",
              "    }\n",
              "\n",
              "    .dataframe thead th {\n",
              "        text-align: right;\n",
              "    }\n",
              "</style>\n",
              "<table border=\"1\" class=\"dataframe\">\n",
              "  <thead>\n",
              "    <tr style=\"text-align: right;\">\n",
              "      <th></th>\n",
              "      <th>MW</th>\n",
              "      <th>LogP</th>\n",
              "      <th>NumHDonors</th>\n",
              "      <th>NumHAcceptors</th>\n",
              "    </tr>\n",
              "  </thead>\n",
              "  <tbody>\n",
              "    <tr>\n",
              "      <th>0</th>\n",
              "      <td>551.666</td>\n",
              "      <td>2.36214</td>\n",
              "      <td>3.0</td>\n",
              "      <td>8.0</td>\n",
              "    </tr>\n",
              "    <tr>\n",
              "      <th>1</th>\n",
              "      <td>636.746</td>\n",
              "      <td>4.03940</td>\n",
              "      <td>2.0</td>\n",
              "      <td>7.0</td>\n",
              "    </tr>\n",
              "    <tr>\n",
              "      <th>2</th>\n",
              "      <td>602.629</td>\n",
              "      <td>5.84060</td>\n",
              "      <td>3.0</td>\n",
              "      <td>5.0</td>\n",
              "    </tr>\n",
              "    <tr>\n",
              "      <th>3</th>\n",
              "      <td>514.648</td>\n",
              "      <td>2.29980</td>\n",
              "      <td>2.0</td>\n",
              "      <td>6.0</td>\n",
              "    </tr>\n",
              "    <tr>\n",
              "      <th>4</th>\n",
              "      <td>469.513</td>\n",
              "      <td>3.38040</td>\n",
              "      <td>4.0</td>\n",
              "      <td>5.0</td>\n",
              "    </tr>\n",
              "    <tr>\n",
              "      <th>...</th>\n",
              "      <td>...</td>\n",
              "      <td>...</td>\n",
              "      <td>...</td>\n",
              "      <td>...</td>\n",
              "    </tr>\n",
              "    <tr>\n",
              "      <th>11127</th>\n",
              "      <td>480.970</td>\n",
              "      <td>2.41240</td>\n",
              "      <td>3.0</td>\n",
              "      <td>6.0</td>\n",
              "    </tr>\n",
              "    <tr>\n",
              "      <th>11128</th>\n",
              "      <td>572.709</td>\n",
              "      <td>3.93290</td>\n",
              "      <td>3.0</td>\n",
              "      <td>7.0</td>\n",
              "    </tr>\n",
              "    <tr>\n",
              "      <th>11129</th>\n",
              "      <td>351.450</td>\n",
              "      <td>2.97540</td>\n",
              "      <td>1.0</td>\n",
              "      <td>4.0</td>\n",
              "    </tr>\n",
              "    <tr>\n",
              "      <th>11130</th>\n",
              "      <td>389.249</td>\n",
              "      <td>3.59340</td>\n",
              "      <td>1.0</td>\n",
              "      <td>3.0</td>\n",
              "    </tr>\n",
              "    <tr>\n",
              "      <th>11131</th>\n",
              "      <td>461.319</td>\n",
              "      <td>4.40012</td>\n",
              "      <td>1.0</td>\n",
              "      <td>5.0</td>\n",
              "    </tr>\n",
              "  </tbody>\n",
              "</table>\n",
              "<p>11132 rows × 4 columns</p>\n",
              "</div>"
            ],
            "text/plain": [
              "            MW     LogP  NumHDonors  NumHAcceptors\n",
              "0      551.666  2.36214         3.0            8.0\n",
              "1      636.746  4.03940         2.0            7.0\n",
              "2      602.629  5.84060         3.0            5.0\n",
              "3      514.648  2.29980         2.0            6.0\n",
              "4      469.513  3.38040         4.0            5.0\n",
              "...        ...      ...         ...            ...\n",
              "11127  480.970  2.41240         3.0            6.0\n",
              "11128  572.709  3.93290         3.0            7.0\n",
              "11129  351.450  2.97540         1.0            4.0\n",
              "11130  389.249  3.59340         1.0            3.0\n",
              "11131  461.319  4.40012         1.0            5.0\n",
              "\n",
              "[11132 rows x 4 columns]"
            ]
          },
          "metadata": {
            "tags": []
          },
          "execution_count": 13
        }
      ]
    },
    {
      "cell_type": "code",
      "metadata": {
        "colab": {
          "base_uri": "https://localhost:8080/",
          "height": 473
        },
        "id": "k3yq6SkvMzRi",
        "outputId": "63a3dbdf-c719-49a7-f87d-c754cb7a3b1e"
      },
      "source": [
        "new_df_clean_smiles"
      ],
      "execution_count": null,
      "outputs": [
        {
          "output_type": "execute_result",
          "data": {
            "text/html": [
              "<div>\n",
              "<style scoped>\n",
              "    .dataframe tbody tr th:only-of-type {\n",
              "        vertical-align: middle;\n",
              "    }\n",
              "\n",
              "    .dataframe tbody tr th {\n",
              "        vertical-align: top;\n",
              "    }\n",
              "\n",
              "    .dataframe thead th {\n",
              "        text-align: right;\n",
              "    }\n",
              "</style>\n",
              "<table border=\"1\" class=\"dataframe\">\n",
              "  <thead>\n",
              "    <tr style=\"text-align: right;\">\n",
              "      <th></th>\n",
              "      <th>PUBCHEM_SID</th>\n",
              "      <th>PUBCHEM_ACTIVITY_OUTCOME</th>\n",
              "      <th>PUBCHEM_ACTIVITY_SCORE</th>\n",
              "      <th>canonical_smiles</th>\n",
              "    </tr>\n",
              "  </thead>\n",
              "  <tbody>\n",
              "    <tr>\n",
              "      <th>0</th>\n",
              "      <td>85807145</td>\n",
              "      <td>Active</td>\n",
              "      <td>87.0</td>\n",
              "      <td>C[C@@H]1CN(C(=O)C2=C(C(=CC=C2)NS(=O)(=O)C3=C(O...</td>\n",
              "    </tr>\n",
              "    <tr>\n",
              "      <th>1</th>\n",
              "      <td>85791767</td>\n",
              "      <td>Active</td>\n",
              "      <td>57.0</td>\n",
              "      <td>C[C@@H]1CN(C(=O)C2=C(C=CC(=C2)NC(=O)CC3=CN(C4=...</td>\n",
              "    </tr>\n",
              "    <tr>\n",
              "      <th>2</th>\n",
              "      <td>85799112</td>\n",
              "      <td>Active</td>\n",
              "      <td>68.0</td>\n",
              "      <td>C[C@H]1CN(C(=O)C2=C(C(=CC=C2)NC(=O)NC3=CC=C(C=...</td>\n",
              "    </tr>\n",
              "    <tr>\n",
              "      <th>3</th>\n",
              "      <td>131418956</td>\n",
              "      <td>Active</td>\n",
              "      <td>22.0</td>\n",
              "      <td>C[C@@H]1CN(S(=O)(=O)C2=C(C=C(C=C2)C#CC3=CC=CC=...</td>\n",
              "    </tr>\n",
              "    <tr>\n",
              "      <th>4</th>\n",
              "      <td>131443791</td>\n",
              "      <td>Active</td>\n",
              "      <td>27.0</td>\n",
              "      <td>C1CC1CNC(=O)C[C@@H]2C[C@@H]3[C@H]([C@@H](O2)CO...</td>\n",
              "    </tr>\n",
              "    <tr>\n",
              "      <th>...</th>\n",
              "      <td>...</td>\n",
              "      <td>...</td>\n",
              "      <td>...</td>\n",
              "      <td>...</td>\n",
              "    </tr>\n",
              "    <tr>\n",
              "      <th>11127</th>\n",
              "      <td>131442737</td>\n",
              "      <td>Inactive</td>\n",
              "      <td>1.0</td>\n",
              "      <td>CS(=O)(=O)NC1=CC2=C(C=C1)O[C@@H]3[C@H]2C[C@H](...</td>\n",
              "    </tr>\n",
              "    <tr>\n",
              "      <th>11128</th>\n",
              "      <td>85795573</td>\n",
              "      <td>Inactive</td>\n",
              "      <td>5.0</td>\n",
              "      <td>C[C@@H]1CN(C(=O)C2=C(C=CC(=C2)NS(=O)(=O)C3=CC=...</td>\n",
              "    </tr>\n",
              "    <tr>\n",
              "      <th>11129</th>\n",
              "      <td>26726705</td>\n",
              "      <td>Inactive</td>\n",
              "      <td>2.0</td>\n",
              "      <td>C1COCCN1CCCN2C(NC3=CC=CC=C3C2=O)C4=CC=CC=C4</td>\n",
              "    </tr>\n",
              "    <tr>\n",
              "      <th>11130</th>\n",
              "      <td>49723061</td>\n",
              "      <td>Inactive</td>\n",
              "      <td>-1.0</td>\n",
              "      <td>C1COC2=CC=CC=C2N1C(=O)CCC(=O)NC3=CC=CC=C3Br</td>\n",
              "    </tr>\n",
              "    <tr>\n",
              "      <th>11131</th>\n",
              "      <td>85268579</td>\n",
              "      <td>Inactive</td>\n",
              "      <td>-4.0</td>\n",
              "      <td>CC1=C(N2C=CC=CC2=C1C=NNC(=O)C3=CC=C(C=C3)Br)C(...</td>\n",
              "    </tr>\n",
              "  </tbody>\n",
              "</table>\n",
              "<p>11132 rows × 4 columns</p>\n",
              "</div>"
            ],
            "text/plain": [
              "       PUBCHEM_SID  ...                                   canonical_smiles\n",
              "0         85807145  ...  C[C@@H]1CN(C(=O)C2=C(C(=CC=C2)NS(=O)(=O)C3=C(O...\n",
              "1         85791767  ...  C[C@@H]1CN(C(=O)C2=C(C=CC(=C2)NC(=O)CC3=CN(C4=...\n",
              "2         85799112  ...  C[C@H]1CN(C(=O)C2=C(C(=CC=C2)NC(=O)NC3=CC=C(C=...\n",
              "3        131418956  ...  C[C@@H]1CN(S(=O)(=O)C2=C(C=C(C=C2)C#CC3=CC=CC=...\n",
              "4        131443791  ...  C1CC1CNC(=O)C[C@@H]2C[C@@H]3[C@H]([C@@H](O2)CO...\n",
              "...            ...  ...                                                ...\n",
              "11127    131442737  ...  CS(=O)(=O)NC1=CC2=C(C=C1)O[C@@H]3[C@H]2C[C@H](...\n",
              "11128     85795573  ...  C[C@@H]1CN(C(=O)C2=C(C=CC(=C2)NS(=O)(=O)C3=CC=...\n",
              "11129     26726705  ...        C1COCCN1CCCN2C(NC3=CC=CC=C3C2=O)C4=CC=CC=C4\n",
              "11130     49723061  ...        C1COC2=CC=CC=C2N1C(=O)CCC(=O)NC3=CC=CC=C3Br\n",
              "11131     85268579  ...  CC1=C(N2C=CC=CC2=C1C=NNC(=O)C3=CC=C(C=C3)Br)C(...\n",
              "\n",
              "[11132 rows x 4 columns]"
            ]
          },
          "metadata": {
            "tags": []
          },
          "execution_count": 14
        }
      ]
    },
    {
      "cell_type": "markdown",
      "metadata": {
        "id": "eET6iZ1Aw3oe"
      },
      "source": [
        "Now, let's combine the 2 DataFrame"
      ]
    },
    {
      "cell_type": "code",
      "metadata": {
        "id": "L9nUZC0Ww3gp"
      },
      "source": [
        "df_combined = pd.concat([new_df_clean_smiles,df_lipinski], axis=1)"
      ],
      "execution_count": null,
      "outputs": []
    },
    {
      "cell_type": "code",
      "metadata": {
        "colab": {
          "base_uri": "https://localhost:8080/"
        },
        "id": "_EtNzkUfPen4",
        "outputId": "7e9268b0-57e8-4094-ae18-0b322c8618b7"
      },
      "source": [
        "new_df_clean_smiles.shape, df_lipinski.shape"
      ],
      "execution_count": null,
      "outputs": [
        {
          "output_type": "execute_result",
          "data": {
            "text/plain": [
              "((11132, 4), (11132, 4))"
            ]
          },
          "metadata": {
            "tags": []
          },
          "execution_count": 16
        }
      ]
    },
    {
      "cell_type": "code",
      "metadata": {
        "colab": {
          "base_uri": "https://localhost:8080/",
          "height": 473
        },
        "id": "FRBfBP3QxFJp",
        "outputId": "06d4133d-dd61-495c-f485-5996314ec261"
      },
      "source": [
        "df_combined"
      ],
      "execution_count": null,
      "outputs": [
        {
          "output_type": "execute_result",
          "data": {
            "text/html": [
              "<div>\n",
              "<style scoped>\n",
              "    .dataframe tbody tr th:only-of-type {\n",
              "        vertical-align: middle;\n",
              "    }\n",
              "\n",
              "    .dataframe tbody tr th {\n",
              "        vertical-align: top;\n",
              "    }\n",
              "\n",
              "    .dataframe thead th {\n",
              "        text-align: right;\n",
              "    }\n",
              "</style>\n",
              "<table border=\"1\" class=\"dataframe\">\n",
              "  <thead>\n",
              "    <tr style=\"text-align: right;\">\n",
              "      <th></th>\n",
              "      <th>PUBCHEM_SID</th>\n",
              "      <th>PUBCHEM_ACTIVITY_OUTCOME</th>\n",
              "      <th>PUBCHEM_ACTIVITY_SCORE</th>\n",
              "      <th>canonical_smiles</th>\n",
              "      <th>MW</th>\n",
              "      <th>LogP</th>\n",
              "      <th>NumHDonors</th>\n",
              "      <th>NumHAcceptors</th>\n",
              "    </tr>\n",
              "  </thead>\n",
              "  <tbody>\n",
              "    <tr>\n",
              "      <th>0</th>\n",
              "      <td>85807145</td>\n",
              "      <td>Active</td>\n",
              "      <td>87.0</td>\n",
              "      <td>C[C@@H]1CN(C(=O)C2=C(C(=CC=C2)NS(=O)(=O)C3=C(O...</td>\n",
              "      <td>551.666</td>\n",
              "      <td>2.36214</td>\n",
              "      <td>3.0</td>\n",
              "      <td>8.0</td>\n",
              "    </tr>\n",
              "    <tr>\n",
              "      <th>1</th>\n",
              "      <td>85791767</td>\n",
              "      <td>Active</td>\n",
              "      <td>57.0</td>\n",
              "      <td>C[C@@H]1CN(C(=O)C2=C(C=CC(=C2)NC(=O)CC3=CN(C4=...</td>\n",
              "      <td>636.746</td>\n",
              "      <td>4.03940</td>\n",
              "      <td>2.0</td>\n",
              "      <td>7.0</td>\n",
              "    </tr>\n",
              "    <tr>\n",
              "      <th>2</th>\n",
              "      <td>85799112</td>\n",
              "      <td>Active</td>\n",
              "      <td>68.0</td>\n",
              "      <td>C[C@H]1CN(C(=O)C2=C(C(=CC=C2)NC(=O)NC3=CC=C(C=...</td>\n",
              "      <td>602.629</td>\n",
              "      <td>5.84060</td>\n",
              "      <td>3.0</td>\n",
              "      <td>5.0</td>\n",
              "    </tr>\n",
              "    <tr>\n",
              "      <th>3</th>\n",
              "      <td>131418956</td>\n",
              "      <td>Active</td>\n",
              "      <td>22.0</td>\n",
              "      <td>C[C@@H]1CN(S(=O)(=O)C2=C(C=C(C=C2)C#CC3=CC=CC=...</td>\n",
              "      <td>514.648</td>\n",
              "      <td>2.29980</td>\n",
              "      <td>2.0</td>\n",
              "      <td>6.0</td>\n",
              "    </tr>\n",
              "    <tr>\n",
              "      <th>4</th>\n",
              "      <td>131443791</td>\n",
              "      <td>Active</td>\n",
              "      <td>27.0</td>\n",
              "      <td>C1CC1CNC(=O)C[C@@H]2C[C@@H]3[C@H]([C@@H](O2)CO...</td>\n",
              "      <td>469.513</td>\n",
              "      <td>3.38040</td>\n",
              "      <td>4.0</td>\n",
              "      <td>5.0</td>\n",
              "    </tr>\n",
              "    <tr>\n",
              "      <th>...</th>\n",
              "      <td>...</td>\n",
              "      <td>...</td>\n",
              "      <td>...</td>\n",
              "      <td>...</td>\n",
              "      <td>...</td>\n",
              "      <td>...</td>\n",
              "      <td>...</td>\n",
              "      <td>...</td>\n",
              "    </tr>\n",
              "    <tr>\n",
              "      <th>11127</th>\n",
              "      <td>131442737</td>\n",
              "      <td>Inactive</td>\n",
              "      <td>1.0</td>\n",
              "      <td>CS(=O)(=O)NC1=CC2=C(C=C1)O[C@@H]3[C@H]2C[C@H](...</td>\n",
              "      <td>480.970</td>\n",
              "      <td>2.41240</td>\n",
              "      <td>3.0</td>\n",
              "      <td>6.0</td>\n",
              "    </tr>\n",
              "    <tr>\n",
              "      <th>11128</th>\n",
              "      <td>85795573</td>\n",
              "      <td>Inactive</td>\n",
              "      <td>5.0</td>\n",
              "      <td>C[C@@H]1CN(C(=O)C2=C(C=CC(=C2)NS(=O)(=O)C3=CC=...</td>\n",
              "      <td>572.709</td>\n",
              "      <td>3.93290</td>\n",
              "      <td>3.0</td>\n",
              "      <td>7.0</td>\n",
              "    </tr>\n",
              "    <tr>\n",
              "      <th>11129</th>\n",
              "      <td>26726705</td>\n",
              "      <td>Inactive</td>\n",
              "      <td>2.0</td>\n",
              "      <td>C1COCCN1CCCN2C(NC3=CC=CC=C3C2=O)C4=CC=CC=C4</td>\n",
              "      <td>351.450</td>\n",
              "      <td>2.97540</td>\n",
              "      <td>1.0</td>\n",
              "      <td>4.0</td>\n",
              "    </tr>\n",
              "    <tr>\n",
              "      <th>11130</th>\n",
              "      <td>49723061</td>\n",
              "      <td>Inactive</td>\n",
              "      <td>-1.0</td>\n",
              "      <td>C1COC2=CC=CC=C2N1C(=O)CCC(=O)NC3=CC=CC=C3Br</td>\n",
              "      <td>389.249</td>\n",
              "      <td>3.59340</td>\n",
              "      <td>1.0</td>\n",
              "      <td>3.0</td>\n",
              "    </tr>\n",
              "    <tr>\n",
              "      <th>11131</th>\n",
              "      <td>85268579</td>\n",
              "      <td>Inactive</td>\n",
              "      <td>-4.0</td>\n",
              "      <td>CC1=C(N2C=CC=CC2=C1C=NNC(=O)C3=CC=C(C=C3)Br)C(...</td>\n",
              "      <td>461.319</td>\n",
              "      <td>4.40012</td>\n",
              "      <td>1.0</td>\n",
              "      <td>5.0</td>\n",
              "    </tr>\n",
              "  </tbody>\n",
              "</table>\n",
              "<p>11132 rows × 8 columns</p>\n",
              "</div>"
            ],
            "text/plain": [
              "       PUBCHEM_SID PUBCHEM_ACTIVITY_OUTCOME  ...  NumHDonors NumHAcceptors\n",
              "0         85807145                   Active  ...         3.0           8.0\n",
              "1         85791767                   Active  ...         2.0           7.0\n",
              "2         85799112                   Active  ...         3.0           5.0\n",
              "3        131418956                   Active  ...         2.0           6.0\n",
              "4        131443791                   Active  ...         4.0           5.0\n",
              "...            ...                      ...  ...         ...           ...\n",
              "11127    131442737                 Inactive  ...         3.0           6.0\n",
              "11128     85795573                 Inactive  ...         3.0           7.0\n",
              "11129     26726705                 Inactive  ...         1.0           4.0\n",
              "11130     49723061                 Inactive  ...         1.0           3.0\n",
              "11131     85268579                 Inactive  ...         1.0           5.0\n",
              "\n",
              "[11132 rows x 8 columns]"
            ]
          },
          "metadata": {
            "tags": []
          },
          "execution_count": 17
        }
      ]
    },
    {
      "cell_type": "code",
      "metadata": {
        "id": "qgMHWsIaUy0l"
      },
      "source": [
        "df_combined.to_csv('data_with_lipinski_descriptors_short.csv')"
      ],
      "execution_count": null,
      "outputs": []
    },
    {
      "cell_type": "markdown",
      "metadata": {
        "id": "05vHBWvqaQtb"
      },
      "source": [
        "### **Removing the 'Inconclusive' bioactivity class**\n",
        "Here, we will be removing the ``Inconclusive`` class from our data set."
      ]
    },
    {
      "cell_type": "code",
      "metadata": {
        "colab": {
          "base_uri": "https://localhost:8080/",
          "height": 473
        },
        "id": "HmrndhDW3c7Z",
        "outputId": "e37d0b63-7865-4f22-c570-47bc5af282ce"
      },
      "source": [
        "df_2class = df_combined[df_combined['PUBCHEM_ACTIVITY_OUTCOME'] != 'Inconclusive']\n",
        "df_2class"
      ],
      "execution_count": null,
      "outputs": [
        {
          "output_type": "execute_result",
          "data": {
            "text/html": [
              "<div>\n",
              "<style scoped>\n",
              "    .dataframe tbody tr th:only-of-type {\n",
              "        vertical-align: middle;\n",
              "    }\n",
              "\n",
              "    .dataframe tbody tr th {\n",
              "        vertical-align: top;\n",
              "    }\n",
              "\n",
              "    .dataframe thead th {\n",
              "        text-align: right;\n",
              "    }\n",
              "</style>\n",
              "<table border=\"1\" class=\"dataframe\">\n",
              "  <thead>\n",
              "    <tr style=\"text-align: right;\">\n",
              "      <th></th>\n",
              "      <th>PUBCHEM_SID</th>\n",
              "      <th>PUBCHEM_ACTIVITY_OUTCOME</th>\n",
              "      <th>PUBCHEM_ACTIVITY_SCORE</th>\n",
              "      <th>canonical_smiles</th>\n",
              "      <th>MW</th>\n",
              "      <th>LogP</th>\n",
              "      <th>NumHDonors</th>\n",
              "      <th>NumHAcceptors</th>\n",
              "    </tr>\n",
              "  </thead>\n",
              "  <tbody>\n",
              "    <tr>\n",
              "      <th>0</th>\n",
              "      <td>85807145</td>\n",
              "      <td>Active</td>\n",
              "      <td>87.0</td>\n",
              "      <td>C[C@@H]1CN(C(=O)C2=C(C(=CC=C2)NS(=O)(=O)C3=C(O...</td>\n",
              "      <td>551.666</td>\n",
              "      <td>2.36214</td>\n",
              "      <td>3.0</td>\n",
              "      <td>8.0</td>\n",
              "    </tr>\n",
              "    <tr>\n",
              "      <th>1</th>\n",
              "      <td>85791767</td>\n",
              "      <td>Active</td>\n",
              "      <td>57.0</td>\n",
              "      <td>C[C@@H]1CN(C(=O)C2=C(C=CC(=C2)NC(=O)CC3=CN(C4=...</td>\n",
              "      <td>636.746</td>\n",
              "      <td>4.03940</td>\n",
              "      <td>2.0</td>\n",
              "      <td>7.0</td>\n",
              "    </tr>\n",
              "    <tr>\n",
              "      <th>2</th>\n",
              "      <td>85799112</td>\n",
              "      <td>Active</td>\n",
              "      <td>68.0</td>\n",
              "      <td>C[C@H]1CN(C(=O)C2=C(C(=CC=C2)NC(=O)NC3=CC=C(C=...</td>\n",
              "      <td>602.629</td>\n",
              "      <td>5.84060</td>\n",
              "      <td>3.0</td>\n",
              "      <td>5.0</td>\n",
              "    </tr>\n",
              "    <tr>\n",
              "      <th>3</th>\n",
              "      <td>131418956</td>\n",
              "      <td>Active</td>\n",
              "      <td>22.0</td>\n",
              "      <td>C[C@@H]1CN(S(=O)(=O)C2=C(C=C(C=C2)C#CC3=CC=CC=...</td>\n",
              "      <td>514.648</td>\n",
              "      <td>2.29980</td>\n",
              "      <td>2.0</td>\n",
              "      <td>6.0</td>\n",
              "    </tr>\n",
              "    <tr>\n",
              "      <th>4</th>\n",
              "      <td>131443791</td>\n",
              "      <td>Active</td>\n",
              "      <td>27.0</td>\n",
              "      <td>C1CC1CNC(=O)C[C@@H]2C[C@@H]3[C@H]([C@@H](O2)CO...</td>\n",
              "      <td>469.513</td>\n",
              "      <td>3.38040</td>\n",
              "      <td>4.0</td>\n",
              "      <td>5.0</td>\n",
              "    </tr>\n",
              "    <tr>\n",
              "      <th>...</th>\n",
              "      <td>...</td>\n",
              "      <td>...</td>\n",
              "      <td>...</td>\n",
              "      <td>...</td>\n",
              "      <td>...</td>\n",
              "      <td>...</td>\n",
              "      <td>...</td>\n",
              "      <td>...</td>\n",
              "    </tr>\n",
              "    <tr>\n",
              "      <th>11127</th>\n",
              "      <td>131442737</td>\n",
              "      <td>Inactive</td>\n",
              "      <td>1.0</td>\n",
              "      <td>CS(=O)(=O)NC1=CC2=C(C=C1)O[C@@H]3[C@H]2C[C@H](...</td>\n",
              "      <td>480.970</td>\n",
              "      <td>2.41240</td>\n",
              "      <td>3.0</td>\n",
              "      <td>6.0</td>\n",
              "    </tr>\n",
              "    <tr>\n",
              "      <th>11128</th>\n",
              "      <td>85795573</td>\n",
              "      <td>Inactive</td>\n",
              "      <td>5.0</td>\n",
              "      <td>C[C@@H]1CN(C(=O)C2=C(C=CC(=C2)NS(=O)(=O)C3=CC=...</td>\n",
              "      <td>572.709</td>\n",
              "      <td>3.93290</td>\n",
              "      <td>3.0</td>\n",
              "      <td>7.0</td>\n",
              "    </tr>\n",
              "    <tr>\n",
              "      <th>11129</th>\n",
              "      <td>26726705</td>\n",
              "      <td>Inactive</td>\n",
              "      <td>2.0</td>\n",
              "      <td>C1COCCN1CCCN2C(NC3=CC=CC=C3C2=O)C4=CC=CC=C4</td>\n",
              "      <td>351.450</td>\n",
              "      <td>2.97540</td>\n",
              "      <td>1.0</td>\n",
              "      <td>4.0</td>\n",
              "    </tr>\n",
              "    <tr>\n",
              "      <th>11130</th>\n",
              "      <td>49723061</td>\n",
              "      <td>Inactive</td>\n",
              "      <td>-1.0</td>\n",
              "      <td>C1COC2=CC=CC=C2N1C(=O)CCC(=O)NC3=CC=CC=C3Br</td>\n",
              "      <td>389.249</td>\n",
              "      <td>3.59340</td>\n",
              "      <td>1.0</td>\n",
              "      <td>3.0</td>\n",
              "    </tr>\n",
              "    <tr>\n",
              "      <th>11131</th>\n",
              "      <td>85268579</td>\n",
              "      <td>Inactive</td>\n",
              "      <td>-4.0</td>\n",
              "      <td>CC1=C(N2C=CC=CC2=C1C=NNC(=O)C3=CC=C(C=C3)Br)C(...</td>\n",
              "      <td>461.319</td>\n",
              "      <td>4.40012</td>\n",
              "      <td>1.0</td>\n",
              "      <td>5.0</td>\n",
              "    </tr>\n",
              "  </tbody>\n",
              "</table>\n",
              "<p>11132 rows × 8 columns</p>\n",
              "</div>"
            ],
            "text/plain": [
              "       PUBCHEM_SID PUBCHEM_ACTIVITY_OUTCOME  ...  NumHDonors NumHAcceptors\n",
              "0         85807145                   Active  ...         3.0           8.0\n",
              "1         85791767                   Active  ...         2.0           7.0\n",
              "2         85799112                   Active  ...         3.0           5.0\n",
              "3        131418956                   Active  ...         2.0           6.0\n",
              "4        131443791                   Active  ...         4.0           5.0\n",
              "...            ...                      ...  ...         ...           ...\n",
              "11127    131442737                 Inactive  ...         3.0           6.0\n",
              "11128     85795573                 Inactive  ...         3.0           7.0\n",
              "11129     26726705                 Inactive  ...         1.0           4.0\n",
              "11130     49723061                 Inactive  ...         1.0           3.0\n",
              "11131     85268579                 Inactive  ...         1.0           5.0\n",
              "\n",
              "[11132 rows x 8 columns]"
            ]
          },
          "metadata": {
            "tags": []
          },
          "execution_count": 18
        }
      ]
    },
    {
      "cell_type": "markdown",
      "metadata": {
        "id": "GJGRNXXigd1o"
      },
      "source": [
        "Let's write this to CSV file."
      ]
    },
    {
      "cell_type": "code",
      "metadata": {
        "id": "XIiYdeL5ghCo"
      },
      "source": [
        "df_2class.to_csv('data_with_lipinski_descriptor-2classes_short.csv')"
      ],
      "execution_count": null,
      "outputs": []
    },
    {
      "cell_type": "markdown",
      "metadata": {
        "id": "p9vA4-hQQ8sA"
      },
      "source": [
        "---"
      ]
    },
    {
      "cell_type": "markdown",
      "metadata": {
        "id": "x0vqbQWfxsZu"
      },
      "source": [
        "## **Exploratory Data Analysis (Chemical Space Analysis) via Lipinski descriptors**"
      ]
    },
    {
      "cell_type": "markdown",
      "metadata": {
        "id": "18heJagiyHoF"
      },
      "source": [
        "### **Import library**"
      ]
    },
    {
      "cell_type": "code",
      "metadata": {
        "id": "0Egq_rNsxtIj"
      },
      "source": [
        "import seaborn as sns\n",
        "sns.set(style='ticks')\n",
        "import matplotlib.pyplot as plt"
      ],
      "execution_count": null,
      "outputs": []
    },
    {
      "cell_type": "markdown",
      "metadata": {
        "id": "NiarmFbOdG3H"
      },
      "source": [
        "### **Frequency plot of the 2 bioactivity classes**"
      ]
    },
    {
      "cell_type": "code",
      "metadata": {
        "colab": {
          "base_uri": "https://localhost:8080/",
          "height": 367
        },
        "id": "w2Ia0iycdMO2",
        "outputId": "d60a8703-9090-4cee-e9a7-cb05f098a483"
      },
      "source": [
        "plt.figure(figsize=(5.5, 5.5))\n",
        "\n",
        "sns.countplot(x='PUBCHEM_ACTIVITY_OUTCOME', data=df_2class, edgecolor='black')\n",
        "\n",
        "plt.xlabel('Bioactivity class', fontsize=14, fontweight='bold')\n",
        "plt.ylabel('Frequency', fontsize=14, fontweight='bold')\n",
        "\n",
        "plt.savefig('plot_bioactivity_class_short.pdf')"
      ],
      "execution_count": null,
      "outputs": [
        {
          "output_type": "display_data",
          "data": {
            "image/png": "[encoded data removed]",
            "text/plain": [
              "<Figure size 396x396 with 1 Axes>"
            ]
          },
          "metadata": {
            "tags": []
          }
        }
      ]
    },
    {
      "cell_type": "markdown",
      "metadata": {
        "id": "wB68NKVG0j68"
      },
      "source": [
        "### **Scatter plot of MW versus LogP**\n",
        "\n",
        "It can be seen that the 2 bioactivity classes are spanning similar chemical spaces as evident by the scatter plot of MW vs LogP."
      ]
    },
    {
      "cell_type": "code",
      "metadata": {
        "colab": {
          "base_uri": "https://localhost:8080/",
          "height": 369
        },
        "id": "F79BNwjF0nub",
        "outputId": "a5dc6b1b-deb7-4dd9-889a-7907fb2e049c"
      },
      "source": [
        "plt.figure(figsize=(5.5, 5.5))\n",
        "\n",
        "sns.scatterplot(x='MW', y='LogP', data=df_2class, hue='PUBCHEM_ACTIVITY_OUTCOME', \n",
        "                size='PUBCHEM_ACTIVITY_SCORE', edgecolor='black', alpha=0.7)\n",
        "\n",
        "plt.xlabel('MW', fontsize=14, fontweight='bold')\n",
        "plt.ylabel('LogP', fontsize=14, fontweight='bold')\n",
        "plt.legend(bbox_to_anchor=(1.05, 1), loc=2, borderaxespad=0)\n",
        "plt.savefig('plot_MW_vs_LogP_short.pdf')"
      ],
      "execution_count": null,
      "outputs": [
        {
          "output_type": "display_data",
          "data": {
            "image/png": "[encoded data removed]",
            "text/plain": [
              "<Figure size 396x396 with 1 Axes>"
            ]
          },
          "metadata": {
            "tags": []
          }
        }
      ]
    },
    {
      "cell_type": "markdown",
      "metadata": {
        "id": "oLAfyRwHyJfX"
      },
      "source": [
        "### **Box plots**"
      ]
    },
    {
      "cell_type": "markdown",
      "metadata": {
        "id": "1n1uIAivyOkY"
      },
      "source": [
        "#### **pIC50 value**"
      ]
    },
    {
      "cell_type": "code",
      "metadata": {
        "colab": {
          "base_uri": "https://localhost:8080/",
          "height": 367
        },
        "id": "EpPviw0hxue6",
        "outputId": "5dab82d0-bd80-4ad6-d5af-87c003712c66"
      },
      "source": [
        "plt.figure(figsize=(5.5, 5.5))\n",
        "\n",
        "sns.boxplot(x = 'PUBCHEM_ACTIVITY_OUTCOME', y = 'PUBCHEM_ACTIVITY_SCORE', data = df_2class)\n",
        "\n",
        "plt.xlabel('Bioactivity class', fontsize=14, fontweight='bold')\n",
        "plt.ylabel('PUBCHEM_ACTIVITY_SCORE value', fontsize=14, fontweight='bold')\n",
        "\n",
        "plt.savefig('plot_activty_score_short.pdf')"
      ],
      "execution_count": null,
      "outputs": [
        {
          "output_type": "display_data",
          "data": {
            "image/png": "[encoded data removed]",
            "text/plain": [
              "<Figure size 396x396 with 1 Axes>"
            ]
          },
          "metadata": {
            "tags": []
          }
        }
      ]
    },
    {
      "cell_type": "markdown",
      "metadata": {
        "id": "PsOqKyysCZCv"
      },
      "source": [
        "**Statistical analysis | Mann-Whitney U Test**"
      ]
    },
    {
      "cell_type": "code",
      "metadata": {
        "id": "LPdV1vDnWBsh"
      },
      "source": [
        "def mannwhitney(descriptor, verbose=False):\n",
        "  # https://machinelearningmastery.com/nonparametric-statistical-significance-tests-in-python/\n",
        "  from numpy.random import seed\n",
        "  from numpy.random import randn\n",
        "  from scipy.stats import mannwhitneyu\n",
        "\n",
        "# seed the random number generator\n",
        "  seed(1)\n",
        "\n",
        "# actives and inactives\n",
        "  selection = [descriptor, 'PUBCHEM_ACTIVITY_OUTCOME']\n",
        "  df = df_2class[selection]\n",
        "  active = df[df['PUBCHEM_ACTIVITY_OUTCOME'] == 'Active']\n",
        "  active = active[descriptor]\n",
        "\n",
        "  selection = [descriptor, 'PUBCHEM_ACTIVITY_OUTCOME']\n",
        "  df = df_2class[selection]\n",
        "  inactive = df[df['PUBCHEM_ACTIVITY_OUTCOME'] == 'Inactive']\n",
        "  inactive = inactive[descriptor]\n",
        "\n",
        "# compare samples\n",
        "  stat, p = mannwhitneyu(active, inactive)\n",
        "  #print('Statistics=%.3f, p=%.3f' % (stat, p))\n",
        "\n",
        "# interpret\n",
        "  alpha = 0.05\n",
        "  if p > alpha:\n",
        "    interpretation = 'Same distribution (fail to reject H0)'\n",
        "  else:\n",
        "    interpretation = 'Different distribution (reject H0)'\n",
        "  \n",
        "  results = pd.DataFrame({'Descriptor':descriptor,\n",
        "                          'Statistics':stat,\n",
        "                          'p':p,\n",
        "                          'alpha':alpha,\n",
        "                          'Interpretation':interpretation}, index=[0])\n",
        "  filename = 'mannwhitneyu_' + descriptor +'_short'+ '.csv'\n",
        "  results.to_csv(filename)\n",
        "\n",
        "  return results"
      ],
      "execution_count": null,
      "outputs": []
    },
    {
      "cell_type": "code",
      "metadata": {
        "colab": {
          "base_uri": "https://localhost:8080/",
          "height": 80
        },
        "id": "HZmUgOmdYVm5",
        "outputId": "5d86515d-3381-492b-fe1a-f53ed0487ac0"
      },
      "source": [
        "mannwhitney('PUBCHEM_ACTIVITY_SCORE')"
      ],
      "execution_count": null,
      "outputs": [
        {
          "output_type": "execute_result",
          "data": {
            "text/html": [
              "<div>\n",
              "<style scoped>\n",
              "    .dataframe tbody tr th:only-of-type {\n",
              "        vertical-align: middle;\n",
              "    }\n",
              "\n",
              "    .dataframe tbody tr th {\n",
              "        vertical-align: top;\n",
              "    }\n",
              "\n",
              "    .dataframe thead th {\n",
              "        text-align: right;\n",
              "    }\n",
              "</style>\n",
              "<table border=\"1\" class=\"dataframe\">\n",
              "  <thead>\n",
              "    <tr style=\"text-align: right;\">\n",
              "      <th></th>\n",
              "      <th>Descriptor</th>\n",
              "      <th>Statistics</th>\n",
              "      <th>p</th>\n",
              "      <th>alpha</th>\n",
              "      <th>Interpretation</th>\n",
              "    </tr>\n",
              "  </thead>\n",
              "  <tbody>\n",
              "    <tr>\n",
              "      <th>0</th>\n",
              "      <td>PUBCHEM_ACTIVITY_SCORE</td>\n",
              "      <td>0.0</td>\n",
              "      <td>0.0</td>\n",
              "      <td>0.05</td>\n",
              "      <td>Different distribution (reject H0)</td>\n",
              "    </tr>\n",
              "  </tbody>\n",
              "</table>\n",
              "</div>"
            ],
            "text/plain": [
              "               Descriptor  ...                      Interpretation\n",
              "0  PUBCHEM_ACTIVITY_SCORE  ...  Different distribution (reject H0)\n",
              "\n",
              "[1 rows x 5 columns]"
            ]
          },
          "metadata": {
            "tags": []
          },
          "execution_count": 25
        }
      ]
    },
    {
      "cell_type": "markdown",
      "metadata": {
        "id": "o2UlCwPmyTBq"
      },
      "source": [
        "#### **MW**"
      ]
    },
    {
      "cell_type": "code",
      "metadata": {
        "colab": {
          "base_uri": "https://localhost:8080/",
          "height": 367
        },
        "id": "ZNlEEsDEx3m6",
        "outputId": "e8cd7486-8074-4f3e-82e6-4438f7ae34fc"
      },
      "source": [
        "plt.figure(figsize=(5.5, 5.5))\n",
        "\n",
        "sns.boxplot(x = 'PUBCHEM_ACTIVITY_OUTCOME', y = 'MW', data = df_2class)\n",
        "\n",
        "plt.xlabel('Bioactivity class', fontsize=14, fontweight='bold')\n",
        "plt.ylabel('MW', fontsize=14, fontweight='bold')\n",
        "\n",
        "plt.savefig('plot_MW_short.pdf')"
      ],
      "execution_count": null,
      "outputs": [
        {
          "output_type": "display_data",
          "data": {
            "image/png": "[encoded data removed]",
            "text/plain": [
              "<Figure size 396x396 with 1 Axes>"
            ]
          },
          "metadata": {
            "tags": []
          }
        }
      ]
    },
    {
      "cell_type": "code",
      "metadata": {
        "colab": {
          "base_uri": "https://localhost:8080/",
          "height": 80
        },
        "id": "wRl2FvgHYqaG",
        "outputId": "9b600438-56fb-43a8-d442-19538fbcceb9"
      },
      "source": [
        "mannwhitney('MW')"
      ],
      "execution_count": null,
      "outputs": [
        {
          "output_type": "execute_result",
          "data": {
            "text/html": [
              "<div>\n",
              "<style scoped>\n",
              "    .dataframe tbody tr th:only-of-type {\n",
              "        vertical-align: middle;\n",
              "    }\n",
              "\n",
              "    .dataframe tbody tr th {\n",
              "        vertical-align: top;\n",
              "    }\n",
              "\n",
              "    .dataframe thead th {\n",
              "        text-align: right;\n",
              "    }\n",
              "</style>\n",
              "<table border=\"1\" class=\"dataframe\">\n",
              "  <thead>\n",
              "    <tr style=\"text-align: right;\">\n",
              "      <th></th>\n",
              "      <th>Descriptor</th>\n",
              "      <th>Statistics</th>\n",
              "      <th>p</th>\n",
              "      <th>alpha</th>\n",
              "      <th>Interpretation</th>\n",
              "    </tr>\n",
              "  </thead>\n",
              "  <tbody>\n",
              "    <tr>\n",
              "      <th>0</th>\n",
              "      <td>MW</td>\n",
              "      <td>11458660.0</td>\n",
              "      <td>2.473219e-120</td>\n",
              "      <td>0.05</td>\n",
              "      <td>Different distribution (reject H0)</td>\n",
              "    </tr>\n",
              "  </tbody>\n",
              "</table>\n",
              "</div>"
            ],
            "text/plain": [
              "  Descriptor  Statistics  ...  alpha                      Interpretation\n",
              "0         MW  11458660.0  ...   0.05  Different distribution (reject H0)\n",
              "\n",
              "[1 rows x 5 columns]"
            ]
          },
          "metadata": {
            "tags": []
          },
          "execution_count": 30
        }
      ]
    },
    {
      "cell_type": "markdown",
      "metadata": {
        "id": "z5hyBhGqyc6J"
      },
      "source": [
        "#### **LogP**"
      ]
    },
    {
      "cell_type": "code",
      "metadata": {
        "colab": {
          "base_uri": "https://localhost:8080/",
          "height": 369
        },
        "id": "liEtkpI4yX9t",
        "outputId": "694b7aa1-51a7-4c16-cdfa-7a4d4b9df70d"
      },
      "source": [
        "plt.figure(figsize=(5.5, 5.5))\n",
        "\n",
        "sns.boxplot(x = 'PUBCHEM_ACTIVITY_OUTCOME', y = 'LogP', data = df_2class)\n",
        "\n",
        "plt.xlabel('Bioactivity class', fontsize=14, fontweight='bold')\n",
        "plt.ylabel('LogP', fontsize=14, fontweight='bold')\n",
        "\n",
        "plt.savefig('plot_LogP_short.pdf')"
      ],
      "execution_count": null,
      "outputs": [
        {
          "output_type": "display_data",
          "data": {
            "image/png": "[encoded data removed]",
            "text/plain": [
              "<Figure size 396x396 with 1 Axes>"
            ]
          },
          "metadata": {
            "tags": []
          }
        }
      ]
    },
    {
      "cell_type": "markdown",
      "metadata": {
        "id": "2KgV5v_oFLXh"
      },
      "source": [
        "**Statistical analysis | Mann-Whitney U Test**"
      ]
    },
    {
      "cell_type": "code",
      "metadata": {
        "colab": {
          "base_uri": "https://localhost:8080/",
          "height": 80
        },
        "id": "B61UsGMIFLuE",
        "outputId": "b13e9a5e-fdd1-4c69-ad75-04d4d8ed3d09"
      },
      "source": [
        "mannwhitney('LogP')"
      ],
      "execution_count": null,
      "outputs": [
        {
          "output_type": "execute_result",
          "data": {
            "text/html": [
              "<div>\n",
              "<style scoped>\n",
              "    .dataframe tbody tr th:only-of-type {\n",
              "        vertical-align: middle;\n",
              "    }\n",
              "\n",
              "    .dataframe tbody tr th {\n",
              "        vertical-align: top;\n",
              "    }\n",
              "\n",
              "    .dataframe thead th {\n",
              "        text-align: right;\n",
              "    }\n",
              "</style>\n",
              "<table border=\"1\" class=\"dataframe\">\n",
              "  <thead>\n",
              "    <tr style=\"text-align: right;\">\n",
              "      <th></th>\n",
              "      <th>Descriptor</th>\n",
              "      <th>Statistics</th>\n",
              "      <th>p</th>\n",
              "      <th>alpha</th>\n",
              "      <th>Interpretation</th>\n",
              "    </tr>\n",
              "  </thead>\n",
              "  <tbody>\n",
              "    <tr>\n",
              "      <th>0</th>\n",
              "      <td>LogP</td>\n",
              "      <td>12898544.0</td>\n",
              "      <td>1.042740e-49</td>\n",
              "      <td>0.05</td>\n",
              "      <td>Different distribution (reject H0)</td>\n",
              "    </tr>\n",
              "  </tbody>\n",
              "</table>\n",
              "</div>"
            ],
            "text/plain": [
              "  Descriptor  Statistics  ...  alpha                      Interpretation\n",
              "0       LogP  12898544.0  ...   0.05  Different distribution (reject H0)\n",
              "\n",
              "[1 rows x 5 columns]"
            ]
          },
          "metadata": {
            "tags": []
          },
          "execution_count": 32
        }
      ]
    },
    {
      "cell_type": "markdown",
      "metadata": {
        "id": "4db7LZLRym2k"
      },
      "source": [
        "#### **NumHDonors**"
      ]
    },
    {
      "cell_type": "code",
      "metadata": {
        "colab": {
          "base_uri": "https://localhost:8080/",
          "height": 367
        },
        "id": "iru1JPM1yg5A",
        "outputId": "982536ad-d9c8-4705-8ea9-ad44411f8e0e"
      },
      "source": [
        "plt.figure(figsize=(5.5, 5.5))\n",
        "\n",
        "sns.boxplot(x = 'PUBCHEM_ACTIVITY_OUTCOME', y = 'NumHDonors', data = df_2class)\n",
        "\n",
        "plt.xlabel('Bioactivity class', fontsize=14, fontweight='bold')\n",
        "plt.ylabel('NumHDonors', fontsize=14, fontweight='bold')\n",
        "\n",
        "plt.savefig('plot_NumHDonors_short.pdf')"
      ],
      "execution_count": null,
      "outputs": [
        {
          "output_type": "display_data",
          "data": {
            "image/png": "[encoded data removed]",
            "text/plain": [
              "<Figure size 396x396 with 1 Axes>"
            ]
          },
          "metadata": {
            "tags": []
          }
        }
      ]
    },
    {
      "cell_type": "markdown",
      "metadata": {
        "id": "vM5vZWanFe3c"
      },
      "source": [
        "**Statistical analysis | Mann-Whitney U Test**"
      ]
    },
    {
      "cell_type": "code",
      "metadata": {
        "colab": {
          "base_uri": "https://localhost:8080/",
          "height": 80
        },
        "id": "mS-rOqq7Fd1E",
        "outputId": "5f25b7d4-f5d5-4506-f378-873896595920"
      },
      "source": [
        "mannwhitney('NumHDonors')"
      ],
      "execution_count": null,
      "outputs": [
        {
          "output_type": "execute_result",
          "data": {
            "text/html": [
              "<div>\n",
              "<style scoped>\n",
              "    .dataframe tbody tr th:only-of-type {\n",
              "        vertical-align: middle;\n",
              "    }\n",
              "\n",
              "    .dataframe tbody tr th {\n",
              "        vertical-align: top;\n",
              "    }\n",
              "\n",
              "    .dataframe thead th {\n",
              "        text-align: right;\n",
              "    }\n",
              "</style>\n",
              "<table border=\"1\" class=\"dataframe\">\n",
              "  <thead>\n",
              "    <tr style=\"text-align: right;\">\n",
              "      <th></th>\n",
              "      <th>Descriptor</th>\n",
              "      <th>Statistics</th>\n",
              "      <th>p</th>\n",
              "      <th>alpha</th>\n",
              "      <th>Interpretation</th>\n",
              "    </tr>\n",
              "  </thead>\n",
              "  <tbody>\n",
              "    <tr>\n",
              "      <th>0</th>\n",
              "      <td>NumHDonors</td>\n",
              "      <td>13503048.5</td>\n",
              "      <td>3.692189e-32</td>\n",
              "      <td>0.05</td>\n",
              "      <td>Different distribution (reject H0)</td>\n",
              "    </tr>\n",
              "  </tbody>\n",
              "</table>\n",
              "</div>"
            ],
            "text/plain": [
              "   Descriptor  Statistics  ...  alpha                      Interpretation\n",
              "0  NumHDonors  13503048.5  ...   0.05  Different distribution (reject H0)\n",
              "\n",
              "[1 rows x 5 columns]"
            ]
          },
          "metadata": {
            "tags": []
          },
          "execution_count": 34
        }
      ]
    },
    {
      "cell_type": "markdown",
      "metadata": {
        "id": "yOYQ3QiSyu7-"
      },
      "source": [
        "#### **NumHAcceptors**"
      ]
    },
    {
      "cell_type": "code",
      "metadata": {
        "colab": {
          "base_uri": "https://localhost:8080/",
          "height": 367
        },
        "id": "yCw6tgNCyxHf",
        "outputId": "b574c6cc-0fd4-4360-8114-548dfbcfa5fb"
      },
      "source": [
        "plt.figure(figsize=(5.5, 5.5))\n",
        "\n",
        "sns.boxplot(x = 'PUBCHEM_ACTIVITY_OUTCOME', y = 'NumHAcceptors', data = df_2class)\n",
        "\n",
        "plt.xlabel('Bioactivity class', fontsize=14, fontweight='bold')\n",
        "plt.ylabel('NumHAcceptors', fontsize=14, fontweight='bold')\n",
        "\n",
        "plt.savefig('plot_NumHAcceptors_short.pdf')"
      ],
      "execution_count": null,
      "outputs": [
        {
          "output_type": "display_data",
          "data": {
            "image/png": "[encoded data removed]",
            "text/plain": [
              "<Figure size 396x396 with 1 Axes>"
            ]
          },
          "metadata": {
            "tags": []
          }
        }
      ]
    },
    {
      "cell_type": "code",
      "metadata": {
        "colab": {
          "base_uri": "https://localhost:8080/",
          "height": 80
        },
        "id": "NEQoDZctFtGG",
        "outputId": "f676c8ee-4387-4ef2-fdbb-c38d54debf0d"
      },
      "source": [
        "mannwhitney('NumHAcceptors')"
      ],
      "execution_count": null,
      "outputs": [
        {
          "output_type": "execute_result",
          "data": {
            "text/html": [
              "<div>\n",
              "<style scoped>\n",
              "    .dataframe tbody tr th:only-of-type {\n",
              "        vertical-align: middle;\n",
              "    }\n",
              "\n",
              "    .dataframe tbody tr th {\n",
              "        vertical-align: top;\n",
              "    }\n",
              "\n",
              "    .dataframe thead th {\n",
              "        text-align: right;\n",
              "    }\n",
              "</style>\n",
              "<table border=\"1\" class=\"dataframe\">\n",
              "  <thead>\n",
              "    <tr style=\"text-align: right;\">\n",
              "      <th></th>\n",
              "      <th>Descriptor</th>\n",
              "      <th>Statistics</th>\n",
              "      <th>p</th>\n",
              "      <th>alpha</th>\n",
              "      <th>Interpretation</th>\n",
              "    </tr>\n",
              "  </thead>\n",
              "  <tbody>\n",
              "    <tr>\n",
              "      <th>0</th>\n",
              "      <td>NumHAcceptors</td>\n",
              "      <td>14475909.0</td>\n",
              "      <td>1.712196e-08</td>\n",
              "      <td>0.05</td>\n",
              "      <td>Different distribution (reject H0)</td>\n",
              "    </tr>\n",
              "  </tbody>\n",
              "</table>\n",
              "</div>"
            ],
            "text/plain": [
              "      Descriptor  Statistics  ...  alpha                      Interpretation\n",
              "0  NumHAcceptors  14475909.0  ...   0.05  Different distribution (reject H0)\n",
              "\n",
              "[1 rows x 5 columns]"
            ]
          },
          "metadata": {
            "tags": []
          },
          "execution_count": 36
        }
      ]
    },
    {
      "cell_type": "markdown",
      "metadata": {
        "id": "p4QjdHVjKYum"
      },
      "source": [
        "#### **Interpretation of Statistical Results**"
      ]
    },
    {
      "cell_type": "markdown",
      "metadata": {
        "id": "mSoOBIqfLbDs"
      },
      "source": [
        "##### **Box Plots**\n",
        "\n",
        "###### **pIC50 values**\n",
        "\n",
        "Taking a look at pIC50 values, the **actives** and **inactives** displayed ***statistically significant difference***, which is to be expected since threshold values (``IC50 < 1,000 nM = Actives while IC50 > 10,000 nM = Inactives``, corresponding to ``pIC50 > 6 = Actives and pIC50 < 5 = Inactives``) were used to define actives and inactives.\n",
        "\n",
        "###### **Lipinski's descriptors**\n",
        "\n",
        "All of the 4 Lipinski's descriptors exhibited ***statistically significant difference*** between the **actives** and **inactives**."
      ]
    },
    {
      "cell_type": "markdown",
      "metadata": {
        "id": "U-rK8l0wWnKK"
      },
      "source": [
        "## **Zip files**"
      ]
    },
    {
      "cell_type": "code",
      "metadata": {
        "colab": {
          "base_uri": "https://localhost:8080/"
        },
        "id": "GW1ZSsfJWqbM",
        "outputId": "9cde7417-650c-4377-af36-8438f58754a5"
      },
      "source": [
        "! zip -r results.zip . -i *.csv *.pdf"
      ],
      "execution_count": null,
      "outputs": [
        {
          "output_type": "stream",
          "text": [
            "  adding: plot_NumHAcceptors_short.pdf (deflated 39%)\n",
            "  adding: mannwhitneyu_MW_short.csv (deflated 10%)\n",
            "  adding: plot_MW.pdf (deflated 37%)\n",
            "  adding: plot_NumHDonors_short.pdf (deflated 38%)\n",
            "  adding: mannwhitneyu_PUBCHEM_ACTIVITY_SCORE_short.csv (deflated 8%)\n",
            "  adding: data_with_lipinski_descriptors_short.csv (deflated 76%)\n",
            "  adding: data_with_lipinski_descriptors.csv (deflated 76%)\n",
            "  adding: mannwhitneyu_NumHDonors_short.csv (deflated 11%)\n",
            "  adding: plot_LogP_short.pdf (deflated 35%)\n",
            "  adding: mannwhitneyu_LogP_short.csv (deflated 9%)\n",
            "  adding: plot_bioactivity_class_short.pdf (deflated 38%)\n",
            "  adding: plot_MW_vs_LogP_short.pdf (deflated 2%)\n",
            "  adding: plot_MW_short.pdf (deflated 37%)\n",
            "  adding: plot_activty_score_short.pdf (deflated 38%)\n",
            "  adding: mannwhitneyu_NumHAcceptors_short.csv (deflated 11%)\n",
            "  adding: data_with_lipinski_descriptor-2classes_short.csv (deflated 76%)\n",
            "  adding: smile_activity_data_short.csv (deflated 80%)\n",
            "  adding: plot_LogP.pdf (deflated 35%)\n"
          ],
          "name": "stdout"
        }
      ]
    },
    {
      "cell_type": "code",
      "metadata": {
        "id": "LMWOG2UIXEg-"
      },
      "source": [
        ""
      ],
      "execution_count": null,
      "outputs": []
    }
  ]
}